{
 "cells": [
  {
   "cell_type": "markdown",
   "metadata": {},
   "source": [
    "## Environment"
   ]
  },
  {
   "cell_type": "code",
   "execution_count": 78,
   "metadata": {
    "ExecuteTime": {
     "end_time": "2024-01-18T16:27:11.975945Z",
     "start_time": "2024-01-18T16:27:11.697623Z"
    }
   },
   "outputs": [],
   "source": [
    "\n",
    "import numpy as np\n",
    "import matplotlib.pyplot as plt\n",
    "\n",
    "import imp_act\n",
    "from imp_act import make\n"
   ]
  },
  {
   "cell_type": "markdown",
   "metadata": {},
   "source": [
    "### Define the environment"
   ]
  },
  {
   "cell_type": "code",
   "execution_count": 77,
   "metadata": {
    "ExecuteTime": {
     "end_time": "2024-01-18T16:27:13.406319Z",
     "start_time": "2024-01-18T16:27:13.401739Z"
    }
   },
   "outputs": [],
   "source": [
    "env = make(\"ToyExample-v1\") # toy\n",
    "#env = make(\"Montenegro-v1\") # small\n",
    "# env = make(\"Denmark-v1\") # medium\n",
    "# env = make(\"Belgium-v1\") # large"
   ]
  },
  {
   "cell_type": "code",
   "execution_count": 92,
   "metadata": {
    "ExecuteTime": {
     "end_time": "2024-01-18T16:27:14.419072Z",
     "start_time": "2024-01-18T16:27:14.412826Z"
    }
   },
   "outputs": [],
   "source": [
    "def rollout(env, policy, verbose=False, plot=False, current_time=0, output_area=None):\n",
    "\n",
    "    obs = env.reset()\n",
    "    done = False\n",
    "    total_reward = 0\n",
    "    store_rewards = {'reward': [], \n",
    "                    'travel_time_reward':[],\n",
    "                    'maintenance_reward': [],\n",
    "                    'total_travel_time': []}\n",
    "\n",
    "    while not done:\n",
    "        actions = policy(env, obs['edge_observations'], current_time)\n",
    "        # print(state, actions)\n",
    "        next_obs, reward, done, info = env.step(actions)\n",
    "\n",
    "        obs = next_obs\n",
    "        current_time += 1\n",
    "\n",
    "        if verbose:\n",
    "            # print(f\"reward: {reward}, travel times: {info}['travel_times], total_travel_time: {info['total_travel_time']}\")\n",
    "            print(f\"reward: {reward:.3f}, total_travel_time: {info['total_travel_time']:.3f}\")\n",
    "\n",
    "        total_reward += reward\n",
    "        store_rewards['reward'].append(reward)\n",
    "        store_rewards['total_travel_time'].append(info['total_travel_time'])\n",
    "        store_rewards['travel_time_reward'].append(info['reward_elements'][0])\n",
    "        store_rewards['maintenance_reward'].append(info['reward_elements'][1])\n",
    "\n",
    "    if plot and output_area is not None:\n",
    "        with output_area:\n",
    "            clear_output(wait=True)\n",
    "\n",
    "            fig, ax = plt.subplots(1, 3, figsize=(16, 4))\n",
    "\n",
    "            # plot total travel time over episode\n",
    "            ax[0].plot(store_rewards['total_travel_time'])\n",
    "            ax[0].set_yscale('symlog')\n",
    "            ax[0].set_xlabel('timestep')\n",
    "            ax[0].set_title('total travel time')\n",
    "            ax[0].grid()\n",
    "\n",
    "            # plot rewards and reward elements over episode\n",
    "            ax[1].plot(store_rewards['reward'], color='tab:red', label=r'($r_{tt}$ + $r_m$)')\n",
    "            ax[1].plot(store_rewards['travel_time_reward'], color='tab:blue', alpha=0.5, label=r'travel_time ($r_{tt}$)')\n",
    "            ax[1].plot(store_rewards['maintenance_reward'], color='tab:green', alpha=0.5, label=r'maintenance ($r_m$)')\n",
    "            ax[1].tick_params(axis='y', labelcolor='tab:red')\n",
    "            ax[1].set_title('reward')\n",
    "            ax[1].set_xlabel('timestep')\n",
    "            ax[1].grid()\n",
    "            ax[1].legend()\n",
    "\n",
    "            # pie chart of the reward elements\n",
    "            labels = 'travel-time', 'maintenance'\n",
    "            sizes = [abs(-np.sum(store_rewards['travel_time_reward'])), abs(-np.sum(store_rewards['maintenance_reward']))] \n",
    "            explode = (0, 0.1)\n",
    "            ax[2].pie(sizes, explode=explode, labels=labels, autopct='%1.1f%%',\n",
    "                    shadow=True, startangle=90)\n",
    "            ax[2].axis('equal')\n",
    "            ax[2].set_title('reward breakdown')\n",
    "            plt.show()\n",
    "\n",
    "        # Now close the plot to avoid consuming memory\n",
    "        #plt.close(fig)\n",
    "\n",
    "\n",
    "    return total_reward, store_rewards"
   ]
  },
  {
   "cell_type": "code",
   "execution_count": 80,
   "metadata": {},
   "outputs": [],
   "source": [
    "def do_nothing_policy(env, edge_obs): # env forces segments to be replaced when they fail\n",
    "    return [[0 for obs in e] for e in edge_obs]\n",
    "\n",
    "def failure_replace_policy(env, edge_obs):\n",
    "    action = [[3 if obs == 3 else 0 for obs in e] for e in edge_obs]\n",
    "    return action\n",
    "\n",
    "def always_replace_policy(env, edge_obs):\n",
    "    return [[4 for obs in e] for e in edge_obs]"
   ]
  },
  {
   "cell_type": "code",
   "execution_count": 94,
   "metadata": {},
   "outputs": [],
   "source": [
    "def maintenance_policy(env, edge_obs, current_time):\n",
    "    actions = []\n",
    "    for e in edge_obs:\n",
    "        edge_actions = []\n",
    "        for obs in e:\n",
    "            if current_time % reconstruction_4_slider.value == 0 and current_time > 0:\n",
    "                edge_actions.append(4)  # Reconstruction\n",
    "            elif current_time % major_repair_3_slider.value == 0 and current_time > 0:\n",
    "                edge_actions.append(3)  # Major repair\n",
    "            elif current_time % minor_repair_2_slider.value == 0 and current_time > 0:\n",
    "                edge_actions.append(2)  # Minor repair\n",
    "            elif current_time % inspection_1_slider.value == 0 and current_time > 0:\n",
    "                edge_actions.append(1)  # Inspection\n",
    "            else:\n",
    "                edge_actions.append(0)  # Do nothing\n",
    "        actions.append(edge_actions)\n",
    "    return actions"
   ]
  },
  {
   "cell_type": "code",
   "execution_count": 95,
   "metadata": {},
   "outputs": [
    {
     "data": {
      "application/vnd.jupyter.widget-view+json": {
       "model_id": "923998078a2c49c88ef6e2ba88b5c098",
       "version_major": 2,
       "version_minor": 0
      },
      "text/plain": [
       "FloatSlider(value=5.0, continuous_update=False, description='Inspection:', max=50.0, step=1.0)"
      ]
     },
     "metadata": {},
     "output_type": "display_data"
    },
    {
     "data": {
      "application/vnd.jupyter.widget-view+json": {
       "model_id": "4d4015b5a2294d5b9e0598641ed6ee00",
       "version_major": 2,
       "version_minor": 0
      },
      "text/plain": [
       "FloatSlider(value=10.0, continuous_update=False, description='Minor Repair:', max=50.0, step=1.0)"
      ]
     },
     "metadata": {},
     "output_type": "display_data"
    },
    {
     "data": {
      "application/vnd.jupyter.widget-view+json": {
       "model_id": "b8288cbcded14394a104300dcea824c4",
       "version_major": 2,
       "version_minor": 0
      },
      "text/plain": [
       "FloatSlider(value=12.0, continuous_update=False, description='Major Repair:', max=50.0, step=1.0)"
      ]
     },
     "metadata": {},
     "output_type": "display_data"
    },
    {
     "data": {
      "application/vnd.jupyter.widget-view+json": {
       "model_id": "40070207068d40ffb30fbc92e8f5534b",
       "version_major": 2,
       "version_minor": 0
      },
      "text/plain": [
       "FloatSlider(value=30.0, continuous_update=False, description='Reconstruction:', max=50.0, step=1.0)"
      ]
     },
     "metadata": {},
     "output_type": "display_data"
    },
    {
     "data": {
      "application/vnd.jupyter.widget-view+json": {
       "model_id": "6992d36678ab4c409dca4e92deee0a95",
       "version_major": 2,
       "version_minor": 0
      },
      "text/plain": [
       "Output()"
      ]
     },
     "metadata": {},
     "output_type": "display_data"
    }
   ],
   "source": [
    "import ipywidgets as widgets\n",
    "from IPython.display import display\n",
    "from IPython.display import clear_output\n",
    "output = widgets.Output()\n",
    "# Assuming the sliders have already been created, as in your earlier code:\n",
    "inspection_1_slider = widgets.FloatSlider(value=5, min=0, max=50, step=1, description='Inspection:', continuous_update=False)\n",
    "minor_repair_2_slider = widgets.FloatSlider(value=10, min=0, max=50, step=1, description='Minor Repair:', continuous_update=False)\n",
    "major_repair_3_slider = widgets.FloatSlider(value=12, min=0, max=50, step=1, description='Major Repair:', continuous_update=False)\n",
    "reconstruction_4_slider = widgets.FloatSlider(value=30, min=0, max=50, step=1, description='Reconstruction:', continuous_update=False)\n",
    "\n",
    "# Define the function to run when a slider's value changes\n",
    "def on_slider_change(change):\n",
    "    with output:\n",
    "        clear_output(wait=True)\n",
    "    global env, total_reward, store_rewards  # Ensure you use the global environment\n",
    "    total_reward, store_rewards = rollout(env, maintenance_policy, plot=True, output_area=output)\n",
    "    # You may want to add code here to display or process `total_reward` and `store_rewards`\n",
    "\n",
    "# Attach the observation to the sliders\n",
    "inspection_1_slider.observe(on_slider_change, names='value')\n",
    "minor_repair_2_slider.observe(on_slider_change, names='value')\n",
    "major_repair_3_slider.observe(on_slider_change, names='value')\n",
    "reconstruction_4_slider.observe(on_slider_change, names='value')\n",
    "\n",
    "# Display the sliders\n",
    "display(inspection_1_slider, minor_repair_2_slider, major_repair_3_slider, reconstruction_4_slider)\n",
    "\n",
    "# Run the function once to initialize `total_reward` and `store_rewards`\n",
    "display(output)\n",
    "on_slider_change({'new': inspection_1_slider.value})\n",
    "\n",
    "\n"
   ]
  },
  {
   "cell_type": "code",
   "execution_count": 86,
   "metadata": {},
   "outputs": [
    {
     "data": {
      "text/plain": [
       "-1445945677.4193978"
      ]
     },
     "execution_count": 86,
     "metadata": {},
     "output_type": "execute_result"
    }
   ],
   "source": [
    "total_reward"
   ]
  },
  {
   "cell_type": "code",
   "execution_count": 84,
   "metadata": {},
   "outputs": [
    {
     "data": {
      "text/plain": [
       "{'reward': [-408707067.7034704,\n",
       "  -24000.0,\n",
       "  -24000.0,\n",
       "  -24000.0,\n",
       "  -24000.0,\n",
       "  -35314757.75392421,\n",
       "  -24000.0,\n",
       "  -24000.0,\n",
       "  -24000.0,\n",
       "  -24000.0,\n",
       "  -16410231.526322346,\n",
       "  -24000.0,\n",
       "  -142238315.80193916,\n",
       "  -24000.0,\n",
       "  -24000.0,\n",
       "  -80000.0,\n",
       "  -24000.0,\n",
       "  -51474787.07042186,\n",
       "  -24000.0,\n",
       "  -24000.0,\n",
       "  -49668248.53696035,\n",
       "  -24000.0,\n",
       "  -24000.0,\n",
       "  -24000.0,\n",
       "  -61705802.90790661,\n",
       "  -80000.0,\n",
       "  -24000.0,\n",
       "  -24000.0,\n",
       "  -24000.0,\n",
       "  -51474787.07042186,\n",
       "  -408707067.7034704,\n",
       "  -24000.0,\n",
       "  -24000.0,\n",
       "  -24000.0,\n",
       "  -24000.0,\n",
       "  -80000.0,\n",
       "  -61705802.90790661,\n",
       "  -24000.0,\n",
       "  -24000.0,\n",
       "  -24000.0,\n",
       "  -16410231.526322346,\n",
       "  -24000.0,\n",
       "  -24000.0,\n",
       "  -24000.0,\n",
       "  -24000.0,\n",
       "  -80000.0,\n",
       "  -24000.0,\n",
       "  -44474787.07042186,\n",
       "  -96541789.83990978,\n",
       "  -24000.0],\n",
       " 'travel_time_reward': [-128707067.70347041,\n",
       "  -0.0,\n",
       "  -0.0,\n",
       "  -0.0,\n",
       "  -0.0,\n",
       "  -244757.75392421611,\n",
       "  -0.0,\n",
       "  -0.0,\n",
       "  -0.0,\n",
       "  -0.0,\n",
       "  -386231.52632234676,\n",
       "  -0.0,\n",
       "  -13220315.80193916,\n",
       "  -0.0,\n",
       "  -0.0,\n",
       "  -0.0,\n",
       "  -0.0,\n",
       "  -9453787.070421858,\n",
       "  -0.0,\n",
       "  -0.0,\n",
       "  -647248.5369603487,\n",
       "  -0.0,\n",
       "  -0.0,\n",
       "  -0.0,\n",
       "  -1681802.9079066035,\n",
       "  -0.0,\n",
       "  -0.0,\n",
       "  -0.0,\n",
       "  -0.0,\n",
       "  -9453787.070421858,\n",
       "  -128707067.70347041,\n",
       "  -0.0,\n",
       "  -0.0,\n",
       "  -0.0,\n",
       "  -0.0,\n",
       "  -0.0,\n",
       "  -1681802.9079066035,\n",
       "  -0.0,\n",
       "  -0.0,\n",
       "  -0.0,\n",
       "  -386231.52632234676,\n",
       "  -0.0,\n",
       "  -0.0,\n",
       "  -0.0,\n",
       "  -0.0,\n",
       "  -0.0,\n",
       "  -0.0,\n",
       "  -9453787.070421858,\n",
       "  -2020789.8399097712,\n",
       "  -0.0],\n",
       " 'maintenance_reward': [-280000000,\n",
       "  -24000,\n",
       "  -24000,\n",
       "  -24000,\n",
       "  -24000,\n",
       "  -35070000,\n",
       "  -24000,\n",
       "  -24000,\n",
       "  -24000,\n",
       "  -24000,\n",
       "  -16024000,\n",
       "  -24000,\n",
       "  -129018000,\n",
       "  -24000,\n",
       "  -24000,\n",
       "  -80000,\n",
       "  -24000,\n",
       "  -42021000,\n",
       "  -24000,\n",
       "  -24000,\n",
       "  -49021000,\n",
       "  -24000,\n",
       "  -24000,\n",
       "  -24000,\n",
       "  -60024000,\n",
       "  -80000,\n",
       "  -24000,\n",
       "  -24000,\n",
       "  -24000,\n",
       "  -42021000,\n",
       "  -280000000,\n",
       "  -24000,\n",
       "  -24000,\n",
       "  -24000,\n",
       "  -24000,\n",
       "  -80000,\n",
       "  -60024000,\n",
       "  -24000,\n",
       "  -24000,\n",
       "  -24000,\n",
       "  -16024000,\n",
       "  -24000,\n",
       "  -24000,\n",
       "  -24000,\n",
       "  -24000,\n",
       "  -80000,\n",
       "  -24000,\n",
       "  -35021000,\n",
       "  -94521000,\n",
       "  -24000],\n",
       " 'total_travel_time': [14261.59103759246,\n",
       "  1390.8842672454189,\n",
       "  1390.8842672454189,\n",
       "  1390.8842672454189,\n",
       "  1390.8842672454189,\n",
       "  1415.3600426378405,\n",
       "  1390.8842672454189,\n",
       "  1390.8842672454189,\n",
       "  1390.8842672454189,\n",
       "  1390.8842672454189,\n",
       "  1429.5074198776535,\n",
       "  1390.8842672454189,\n",
       "  2712.915847439335,\n",
       "  1390.8842672454189,\n",
       "  1390.8842672454189,\n",
       "  1390.8842672454189,\n",
       "  1390.8842672454189,\n",
       "  2336.2629742876047,\n",
       "  1390.8842672454189,\n",
       "  1390.8842672454189,\n",
       "  1455.6091209414537,\n",
       "  1390.8842672454189,\n",
       "  1390.8842672454189,\n",
       "  1390.8842672454189,\n",
       "  1559.0645580360792,\n",
       "  1390.8842672454189,\n",
       "  1390.8842672454189,\n",
       "  1390.8842672454189,\n",
       "  1390.8842672454189,\n",
       "  2336.2629742876047,\n",
       "  14261.59103759246,\n",
       "  1390.8842672454189,\n",
       "  1390.8842672454189,\n",
       "  1390.8842672454189,\n",
       "  1390.8842672454189,\n",
       "  1390.8842672454189,\n",
       "  1559.0645580360792,\n",
       "  1390.8842672454189,\n",
       "  1390.8842672454189,\n",
       "  1390.8842672454189,\n",
       "  1429.5074198776535,\n",
       "  1390.8842672454189,\n",
       "  1390.8842672454189,\n",
       "  1390.8842672454189,\n",
       "  1390.8842672454189,\n",
       "  1390.8842672454189,\n",
       "  1390.8842672454189,\n",
       "  2336.2629742876047,\n",
       "  1592.963251236396,\n",
       "  1390.8842672454189]}"
      ]
     },
     "execution_count": 84,
     "metadata": {},
     "output_type": "execute_result"
    }
   ],
   "source": [
    "store_rewards"
   ]
  },
  {
   "cell_type": "code",
   "execution_count": null,
   "metadata": {},
   "outputs": [],
   "source": []
  },
  {
   "cell_type": "code",
   "execution_count": null,
   "metadata": {},
   "outputs": [],
   "source": [
    "from IPython.display import clear_output\n",
    "import matplotlib.pyplot as plt\n",
    "\n",
    "# Generate the new plot\n",
    "fig, ax = plt.subplots()\n",
    "ax.plot(x, y)\n",
    "\n",
    "# Clear the previous output\n",
    "clear_output(wait=True)\n",
    "\n",
    "# Display the new plot\n",
    "plt.show()\n"
   ]
  },
  {
   "cell_type": "code",
   "execution_count": null,
   "metadata": {},
   "outputs": [],
   "source": [
    "act"
   ]
  },
  {
   "cell_type": "markdown",
   "metadata": {},
   "source": [
    "Baselines: do-nothing, failure-replace, always-replace"
   ]
  },
  {
   "cell_type": "code",
   "execution_count": null,
   "metadata": {
    "ExecuteTime": {
     "end_time": "2024-01-18T16:30:33.879283Z",
     "start_time": "2024-01-18T16:29:53.334618Z"
    }
   },
   "outputs": [],
   "source": [
    "NUM_EPISODES = 1_00\n",
    "\n",
    "store_do_nothing_rewards = np.zeros(NUM_EPISODES)\n",
    "store_failure_replace_rewards = np.zeros(NUM_EPISODES)\n",
    "store_always_replace_rewards = np.zeros(NUM_EPISODES)\n",
    "\n",
    "for episode in range(NUM_EPISODES):\n",
    "\n",
    "    store_do_nothing_rewards[episode], _ = rollout(env, do_nothing_policy)\n",
    "    store_failure_replace_rewards[episode], _ = rollout(env, failure_replace_policy)\n",
    "    store_always_replace_rewards[episode], _ = rollout(env, always_replace_policy)\n",
    "\n",
    "print(f'Mean reward (do-nothing): {np.mean(store_do_nothing_rewards):.3e}')\n",
    "print(f'Mean reward (failure replace): {np.mean(store_failure_replace_rewards):.3e}')\n",
    "print(f'Mean reward (always replace): {np.mean(store_always_replace_rewards):.3e}')"
   ]
  },
  {
   "cell_type": "code",
   "execution_count": null,
   "metadata": {
    "ExecuteTime": {
     "end_time": "2024-01-18T16:32:35.683216Z",
     "start_time": "2024-01-18T16:32:35.615214Z"
    }
   },
   "outputs": [],
   "source": [
    "# plot bar chart\n",
    "import matplotlib.pyplot as plt\n",
    "\n",
    "fig, ax = plt.subplots(1,1, figsize=(8, 4))\n",
    "_x = ['do-nothing', 'failure-replace', 'always-replace']\n",
    "_y = np.array([np.mean(store_do_nothing_rewards), \n",
    "                np.mean(store_failure_replace_rewards),\n",
    "               np.mean(store_always_replace_rewards)])\n",
    "\n",
    "# add value text on top of each bar\n",
    "ax.bar(_x, _y)\n",
    "\n",
    "ax.set_xlabel('Policy')\n",
    "ax.set_yscale('symlog')\n",
    "ax.set_ylabel('Mean reward')\n",
    "plt.show()"
   ]
  }
 ],
 "metadata": {
  "kernelspec": {
   "display_name": "imp-rl-env",
   "language": "python",
   "name": "python3"
  },
  "language_info": {
   "codemirror_mode": {
    "name": "ipython",
    "version": 3
   },
   "file_extension": ".py",
   "mimetype": "text/x-python",
   "name": "python",
   "nbconvert_exporter": "python",
   "pygments_lexer": "ipython3",
   "version": "3.10.13"
  }
 },
 "nbformat": 4,
 "nbformat_minor": 2
}
