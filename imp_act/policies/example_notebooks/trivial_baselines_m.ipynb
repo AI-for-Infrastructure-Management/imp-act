{
 "cells": [
  {
   "cell_type": "markdown",
   "metadata": {},
   "source": [
    "## Environment"
   ]
  },
  {
   "cell_type": "code",
   "execution_count": 3,
   "metadata": {
    "ExecuteTime": {
     "end_time": "2024-01-18T16:27:11.975945Z",
     "start_time": "2024-01-18T16:27:11.697623Z"
    }
   },
   "outputs": [],
   "source": [
    "\n",
    "import numpy as np\n",
    "import matplotlib.pyplot as plt\n",
    "\n",
    "from imp_act import make\n",
    "!pip install ipywidgets\n"
   ]
  },
  {
   "cell_type": "markdown",
   "metadata": {},
   "source": [
    "### Define the environment"
   ]
  },
  {
   "cell_type": "code",
   "execution_count": 4,
   "metadata": {
    "ExecuteTime": {
     "end_time": "2024-01-18T16:27:13.406319Z",
     "start_time": "2024-01-18T16:27:13.401739Z"
    }
   },
   "outputs": [],
   "source": [
    "# env = make(\"ToyExample-v1\") # toy\n",
    "env = make(\"Montenegro-v1\") # small\n",
    "# env = make(\"Denmark-v1\") # medium\n",
    "# env = make(\"Belgium-v1\") # large"
   ]
  },
  {
   "cell_type": "code",
   "execution_count": 9,
   "metadata": {
    "ExecuteTime": {
     "end_time": "2024-01-18T16:27:14.419072Z",
     "start_time": "2024-01-18T16:27:14.412826Z"
    }
   },
   "outputs": [],
   "source": [
    "def rollout(env, policy, verbose=False, plot=False, current_time=0, output_area=None):\n",
    "\n",
    "    obs = env.reset()\n",
    "    done = False\n",
    "    total_reward = 0\n",
    "    store_rewards = {'reward': [], \n",
    "                    'travel_time_reward':[],\n",
    "                    'maintenance_reward': [],\n",
    "                    'total_travel_time': []}\n",
    "\n",
    "    while not done:\n",
    "        actions = policy(env, obs['edge_observations'], current_time)\n",
    "        # print(state, actions)\n",
    "        next_obs, reward, done, info = env.step(actions)\n",
    "\n",
    "        obs = next_obs\n",
    "        current_time += 1\n",
    "\n",
    "        if verbose:\n",
    "            # print(f\"reward: {reward}, travel times: {info}['travel_times], total_travel_time: {info['total_travel_time']}\")\n",
    "            print(f\"reward: {reward:.3f}, total_travel_time: {info['total_travel_time']:.3f}\")\n",
    "\n",
    "        total_reward += reward\n",
    "        store_rewards['reward'].append(reward)\n",
    "        store_rewards['total_travel_time'].append(info['total_travel_time'])\n",
    "        store_rewards['travel_time_reward'].append(info['reward_elements'][0])\n",
    "        store_rewards['maintenance_reward'].append(info['reward_elements'][1])\n",
    "\n",
    "    store_reward_m=np.array(store_rewards['maintenance_reward'], dtype=np.float64)\n",
    "    store_reward_t=np.array(store_rewards['travel_time_reward'], dtype=np.float64)\n",
    "    if plot and output_area is not None:\n",
    "        with output_area:\n",
    "            clear_output(wait=True)\n",
    "\n",
    "            fig, ax = plt.subplots(1, 3, figsize=(16, 4))\n",
    "\n",
    "            # plot total travel time over episode\n",
    "            ax[0].plot(store_rewards['total_travel_time'])\n",
    "            ax[0].set_yscale('symlog')\n",
    "            ax[0].set_xlabel('timestep')\n",
    "            ax[0].set_title('total travel time')\n",
    "            ax[0].grid()\n",
    "\n",
    "            # plot rewards and reward elements over episode\n",
    "            ax[1].plot(store_rewards['reward'], color='tab:red', label=r'($r_{tt}$ + $r_m$)')\n",
    "            ax[1].plot(store_rewards['travel_time_reward'], color='tab:blue', alpha=0.5, label=r'travel_time ($r_{tt}$)')\n",
    "            ax[1].plot(store_rewards['maintenance_reward'], color='tab:green', alpha=0.5, label=r'maintenance ($r_m$)')\n",
    "            ax[1].tick_params(axis='y', labelcolor='tab:red')\n",
    "            ax[1].set_title('reward')\n",
    "            ax[1].set_xlabel('timestep')\n",
    "            ax[1].grid()\n",
    "            ax[1].legend()\n",
    "\n",
    "            # pie chart of the reward elements\n",
    "            labels = 'travel-time', 'maintenance'\n",
    "            sizes = [-np.sum(store_reward_t),-np.sum(store_reward_m)] \n",
    "            explode = (0, 0.1)\n",
    "            ax[2].pie(sizes, explode=explode, labels=labels, autopct='%1.1f%%',\n",
    "                    shadow=True, startangle=90)\n",
    "            ax[2].axis('equal')\n",
    "            ax[2].set_title('reward breakdown')\n",
    "            plt.show()\n",
    "\n",
    "        # Now close the plot to avoid consuming memory\n",
    "        #plt.close(fig)\n",
    "\n",
    "\n",
    "    return total_reward, store_rewards"
   ]
  },
  {
   "cell_type": "code",
   "execution_count": 10,
   "metadata": {},
   "outputs": [],
   "source": [
    "def do_nothing_policy(env, edge_obs): # env forces segments to be replaced when they fail\n",
    "    return [[0 for obs in e] for e in edge_obs]\n",
    "\n",
    "def failure_replace_policy(env, edge_obs):\n",
    "    action = [[3 if obs == 3 else 0 for obs in e] for e in edge_obs]\n",
    "    return action\n",
    "\n",
    "def always_replace_policy(env, edge_obs):\n",
    "    return [[4 for obs in e] for e in edge_obs]"
   ]
  },
  {
   "cell_type": "code",
   "execution_count": 11,
   "metadata": {},
   "outputs": [],
   "source": [
    "def maintenance_policy(env, edge_obs, current_time):\n",
    "    actions = []\n",
    "    for e in edge_obs:\n",
    "        edge_actions = []\n",
    "        for obs in e:\n",
    "            if obs >= reconstruction_4_slider.value == 0:\n",
    "                edge_actions.append(4)  # Reconstruction\n",
    "            elif obs >= major_repair_3_slider.value == 0:\n",
    "                edge_actions.append(3)  # Major repair\n",
    "            elif obs >= minor_repair_2_slider.value == 0:\n",
    "                edge_actions.append(2)  # Minor repair\n",
    "            elif current_time % inspection_1_slider.value == 0:\n",
    "                edge_actions.append(1)  # Inspection\n",
    "            else:\n",
    "                edge_actions.append(0)  # Do nothing\n",
    "        actions.append(edge_actions)\n",
    "    return actions"
   ]
  },
  {
   "cell_type": "code",
   "execution_count": 13,
   "metadata": {},
   "outputs": [
    {
     "data": {
      "application/vnd.jupyter.widget-view+json": {
       "model_id": "39bef2afd19143d5969d967db0fd46ed",
       "version_major": 2,
       "version_minor": 0
      },
      "text/plain": [
       "FloatSlider(value=5.0, continuous_update=False, description='Inspection:', max=50.0, min=1.0, step=1.0)"
      ]
     },
     "metadata": {},
     "output_type": "display_data"
    },
    {
     "data": {
      "application/vnd.jupyter.widget-view+json": {
       "model_id": "c67d7112e6b84de582c6bd3f498a7e33",
       "version_major": 2,
       "version_minor": 0
      },
      "text/plain": [
       "FloatSlider(value=1.0, continuous_update=False, description='Minor Repair:', max=4.0, step=1.0)"
      ]
     },
     "metadata": {},
     "output_type": "display_data"
    },
    {
     "data": {
      "application/vnd.jupyter.widget-view+json": {
       "model_id": "080c7233c32b483faa032bb36896fcba",
       "version_major": 2,
       "version_minor": 0
      },
      "text/plain": [
       "FloatSlider(value=1.0, continuous_update=False, description='Major Repair:', max=4.0, step=1.0)"
      ]
     },
     "metadata": {},
     "output_type": "display_data"
    },
    {
     "data": {
      "application/vnd.jupyter.widget-view+json": {
       "model_id": "bb55633721bc49b5a790eb3572425f3b",
       "version_major": 2,
       "version_minor": 0
      },
      "text/plain": [
       "FloatSlider(value=1.0, continuous_update=False, description='Reconstruction:', max=4.0, step=1.0)"
      ]
     },
     "metadata": {},
     "output_type": "display_data"
    },
    {
     "data": {
      "application/vnd.jupyter.widget-view+json": {
       "model_id": "5eac1bc961534f66904a85d1cf2eb91a",
       "version_major": 2,
       "version_minor": 0
      },
      "text/plain": [
       "Output()"
      ]
     },
     "metadata": {},
     "output_type": "display_data"
    }
   ],
   "source": [
    "import ipywidgets as widgets\n",
    "\n",
    "from ipywidgets import VBox, HBox\n",
    "from IPython.display import display\n",
    "from IPython.display import clear_output\n",
    "output = widgets.Output()\n",
    "# Define sliders for thresholds\n",
    "inspection_1_slider = widgets.FloatSlider(value=5, min=1, max=50, step=1, description='Inspection:', continuous_update=False)\n",
    "minor_repair_2_slider = widgets.FloatSlider(value=1, min=0, max=4, step=1, description='Minor Repair:', continuous_update=False)\n",
    "major_repair_3_slider = widgets.FloatSlider(value=1, min=0, max=4, step=1, description='Major Repair:', continuous_update=False)\n",
    "reconstruction_4_slider = widgets.FloatSlider(value=1, min=0, max=4, step=1, description='Reconstruction:', continuous_update=False)\n",
    "\n",
    "\n",
    "\n",
    "# Define the function to run when a slider's value changes\n",
    "def on_slider_change(change):\n",
    "    with output:\n",
    "        clear_output(wait=True)\n",
    "    global env, total_reward, store_rewards  # Ensure you use the global environment\n",
    "    total_reward, store_rewards = rollout(env, maintenance_policy, plot=True, output_area=output)\n",
    "    # You may want to add code here to display or process `total_reward` and `store_rewards`\n",
    "\n",
    "# Attach the observation to the sliders\n",
    "inspection_1_slider.observe(on_slider_change, names='value')\n",
    "minor_repair_2_slider.observe(on_slider_change, names='value')\n",
    "major_repair_3_slider.observe(on_slider_change, names='value')\n",
    "reconstruction_4_slider.observe(on_slider_change, names='value')\n",
    "\n",
    "# Display the sliders\n",
    "display(inspection_1_slider, minor_repair_2_slider, major_repair_3_slider, reconstruction_4_slider)\n",
    "\n",
    "# Run the function once to initialize `total_reward` and `store_rewards`\n",
    "display(output)\n",
    "on_slider_change({'new': inspection_1_slider.value})\n"
   ]
  },
  {
   "cell_type": "code",
   "execution_count": 10,
   "metadata": {},
   "outputs": [
    {
     "data": {
      "text/plain": [
       "50"
      ]
     },
     "execution_count": 10,
     "metadata": {},
     "output_type": "execute_result"
    }
   ],
   "source": [
    "len(store_rewards['maintenance_reward'])"
   ]
  },
  {
   "cell_type": "code",
   "execution_count": 9,
   "metadata": {},
   "outputs": [
    {
     "name": "stdout",
     "output_type": "stream",
     "text": [
      "Total maintenance reward: -1760719488\n"
     ]
    },
    {
     "name": "stderr",
     "output_type": "stream",
     "text": [
      "C:\\Users\\zmetwally\\AppData\\Local\\Temp\\ipykernel_20696\\2695096862.py:4: RuntimeWarning: overflow encountered in scalar add\n",
      "  total_maintenance_reward = sum(maintenance_rewards)\n"
     ]
    }
   ],
   "source": [
    "maintenance_rewards = store_rewards['maintenance_reward']\n",
    "\n",
    "# Sum up the maintenance rewards\n",
    "total_maintenance_reward = sum(maintenance_rewards)\n",
    "\n",
    "print(f\"Total maintenance reward: {total_maintenance_reward}\")\n"
   ]
  },
  {
   "cell_type": "markdown",
   "metadata": {},
   "source": [
    "Baselines: do-nothing, failure-replace, always-replace"
   ]
  },
  {
   "cell_type": "code",
   "execution_count": null,
   "metadata": {
    "ExecuteTime": {
     "end_time": "2024-01-18T16:30:33.879283Z",
     "start_time": "2024-01-18T16:29:53.334618Z"
    }
   },
   "outputs": [],
   "source": [
    "NUM_EPISODES = 1_00\n",
    "\n",
    "store_do_nothing_rewards = np.zeros(NUM_EPISODES)\n",
    "store_failure_replace_rewards = np.zeros(NUM_EPISODES)\n",
    "store_always_replace_rewards = np.zeros(NUM_EPISODES)\n",
    "\n",
    "for episode in range(NUM_EPISODES):\n",
    "\n",
    "    store_do_nothing_rewards[episode], _ = rollout(env, do_nothing_policy)\n",
    "    store_failure_replace_rewards[episode], _ = rollout(env, failure_replace_policy)\n",
    "    store_always_replace_rewards[episode], _ = rollout(env, always_replace_policy)\n",
    "\n",
    "print(f'Mean reward (do-nothing): {np.mean(store_do_nothing_rewards):.3e}')\n",
    "print(f'Mean reward (failure replace): {np.mean(store_failure_replace_rewards):.3e}')\n",
    "print(f'Mean reward (always replace): {np.mean(store_always_replace_rewards):.3e}')"
   ]
  },
  {
   "cell_type": "code",
   "execution_count": null,
   "metadata": {
    "ExecuteTime": {
     "end_time": "2024-01-18T16:32:35.683216Z",
     "start_time": "2024-01-18T16:32:35.615214Z"
    }
   },
   "outputs": [],
   "source": [
    "# plot bar chart\n",
    "import matplotlib.pyplot as plt\n",
    "\n",
    "fig, ax = plt.subplots(1,1, figsize=(8, 4))\n",
    "_x = ['do-nothing', 'failure-replace', 'always-replace']\n",
    "_y = np.array([np.mean(store_do_nothing_rewards), \n",
    "                np.mean(store_failure_replace_rewards),\n",
    "               np.mean(store_always_replace_rewards)])\n",
    "\n",
    "# add value text on top of each bar\n",
    "ax.bar(_x, _y)\n",
    "\n",
    "ax.set_xlabel('Policy')\n",
    "ax.set_yscale('symlog')\n",
    "ax.set_ylabel('Mean reward')\n",
    "plt.show()"
   ]
  }
 ],
 "metadata": {
  "kernelspec": {
   "display_name": "imp-rl-env",
   "language": "python",
   "name": "python3"
  },
  "language_info": {
   "codemirror_mode": {
    "name": "ipython",
    "version": 3
   },
   "file_extension": ".py",
   "mimetype": "text/x-python",
   "name": "python",
   "nbconvert_exporter": "python",
   "pygments_lexer": "ipython3",
   "version": "3.10.13"
  }
 },
 "nbformat": 4,
 "nbformat_minor": 2
}
