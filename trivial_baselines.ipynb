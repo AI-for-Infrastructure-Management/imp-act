{
 "cells": [
  {
   "cell_type": "markdown",
   "metadata": {},
   "source": [
    "## Environment"
   ]
  },
  {
   "cell_type": "code",
   "execution_count": 5,
   "metadata": {},
   "outputs": [],
   "source": [
    "import numpy as np\n",
    "\n",
    "from environment import RoadEnvironment\n",
    "from environment_presets import small_environment_dict"
   ]
  },
  {
   "cell_type": "markdown",
   "metadata": {},
   "source": [
    "### Define the environment"
   ]
  },
  {
   "cell_type": "code",
   "execution_count": 6,
   "metadata": {},
   "outputs": [],
   "source": [
    "env = RoadEnvironment(**small_environment_dict)"
   ]
  },
  {
   "cell_type": "code",
   "execution_count": 7,
   "metadata": {},
   "outputs": [],
   "source": [
    "def rollout(env, policy, verbose=False):\n",
    "\n",
    "    state = env.reset()\n",
    "    done = False\n",
    "    total_reward = 0\n",
    "\n",
    "    while not done:\n",
    "        actions = policy(env)\n",
    "        next_state, reward, done, info = env.step(actions)\n",
    "\n",
    "        if verbose:\n",
    "            print(f' actions: {actions}, reward: {reward}')\n",
    "\n",
    "        total_reward += reward\n",
    "\n",
    "    return total_reward"
   ]
  },
  {
   "cell_type": "code",
   "execution_count": null,
   "metadata": {},
   "outputs": [],
   "source": [
    "rollout(env, lambda env: [[0]*segments for segments in env.edge_segments_numbers])"
   ]
  },
  {
   "cell_type": "markdown",
   "metadata": {},
   "source": [
    "Baseline: Do-nothing action"
   ]
  },
  {
   "cell_type": "code",
   "execution_count": 4,
   "metadata": {},
   "outputs": [
    {
     "name": "stdout",
     "output_type": "stream",
     "text": [
      "Mean reward (do-nothing): -62243.27470400004\n"
     ]
    }
   ],
   "source": [
    "NUM_EPISODES = 1_000\n",
    "\n",
    "store_do_nothing_rewards = np.zeros(NUM_EPISODES)\n",
    "\n",
    "for episode in range(NUM_EPISODES):\n",
    "\n",
    "    store_do_nothing_rewards[episode] = rollout(env, lambda env: [[0]*segments for segments in env.edge_segments_numbers])\n",
    "\n",
    "print(f'Mean reward (do-nothing): {np.mean(store_do_nothing_rewards)}')"
   ]
  },
  {
   "cell_type": "markdown",
   "metadata": {},
   "source": [
    "Baseline: Failure replace action"
   ]
  },
  {
   "cell_type": "code",
   "execution_count": 5,
   "metadata": {},
   "outputs": [
    {
     "name": "stdout",
     "output_type": "stream",
     "text": [
      "Mean reward (failure-replace): -31016.95809600002\n"
     ]
    }
   ],
   "source": [
    "NUM_EPISODES = 1_000\n",
    "\n",
    "store_failure_replace_rewards = np.zeros(NUM_EPISODES)\n",
    "\n",
    "for episode in range(NUM_EPISODES):\n",
    "\n",
    "    store_failure_replace_rewards[episode] = rollout(env, lambda env: [[3 if segments == 3 else 0] for segments in env.edge_segments_numbers])\n",
    "\n",
    "print(f'Mean reward (failure-replace): {np.mean(store_failure_replace_rewards)}')"
   ]
  },
  {
   "cell_type": "markdown",
   "metadata": {},
   "source": [
    "Baseline: Always replace"
   ]
  },
  {
   "cell_type": "code",
   "execution_count": 6,
   "metadata": {},
   "outputs": [
    {
     "name": "stdout",
     "output_type": "stream",
     "text": [
      "Mean reward (always-replace): -295327.99999999994\n"
     ]
    }
   ],
   "source": [
    "NUM_EPISODES = 1_000\n",
    "\n",
    "store_always_replace_rewards = np.zeros(NUM_EPISODES)\n",
    "\n",
    "for episode in range(NUM_EPISODES):\n",
    "\n",
    "    store_always_replace_rewards[episode] = rollout(env, lambda env: [[3]*segment for segment in env.edge_segments_numbers])\n",
    "\n",
    "print(f'Mean reward (always-replace): {np.mean(store_always_replace_rewards)}')"
   ]
  },
  {
   "cell_type": "code",
   "execution_count": 24,
   "metadata": {},
   "outputs": [
    {
     "data": {
      "image/png": "[encoded data removed]",
      "text/plain": [
       "<Figure size 800x600 with 1 Axes>"
      ]
     },
     "metadata": {},
     "output_type": "display_data"
    }
   ],
   "source": [
    "# plot bar chart\n",
    "import matplotlib.pyplot as plt\n",
    "\n",
    "plt.figure(figsize=(8, 6))\n",
    "_x = ['do-nothing', 'failure-replace', 'always-replace']\n",
    "_y = np.array([np.mean(store_do_nothing_rewards), np.mean(store_failure_replace_rewards), np.mean(store_always_replace_rewards)])\n",
    "\n",
    "# add value text on top of each bar\n",
    "plt.bar(_x, -1*_y, log=True)\n",
    "\n",
    "plt.xlabel('Policy')\n",
    "plt.ylabel('Mean reward')\n",
    "plt.show()"
   ]
  }
 ],
 "metadata": {
  "kernelspec": {
   "display_name": "imp-rl-env",
   "language": "python",
   "name": "python3"
  },
  "language_info": {
   "codemirror_mode": {
    "name": "ipython",
    "version": 3
   },
   "file_extension": ".py",
   "mimetype": "text/x-python",
   "name": "python",
   "nbconvert_exporter": "python",
   "pygments_lexer": "ipython3",
   "version": "3.12.0"
  }
 },
 "nbformat": 4,
 "nbformat_minor": 2
}
