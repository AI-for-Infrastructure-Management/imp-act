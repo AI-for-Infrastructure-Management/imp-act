{
 "cells": [
  {
   "cell_type": "code",
   "execution_count": 4,
   "metadata": {},
   "outputs": [
    {
     "name": "stdout",
     "output_type": "stream",
     "text": [
      "The autoreload extension is already loaded. To reload it, use:\n",
      "  %reload_ext autoreload\n"
     ]
    }
   ],
   "source": [
    "%load_ext autoreload\n",
    "%autoreload 2\n",
    "\n",
    "import igraph as ig\n",
    "from igraph import Graph\n",
    "from tests.test_environment import *\n",
    "#from environments.config.environment_presets import *\n",
    "import matplotlib.pyplot as plt\n",
    "%matplotlib inline\n",
    "import numpy as np\n",
    "import networkx as nx\n",
    "import scipy as sp\n",
    "\n",
    "#from environments.road_env import RoadEnvironment\n",
    "#from environments.shock import Shock"
   ]
  },
  {
   "cell_type": "code",
   "execution_count": 183,
   "metadata": {},
   "outputs": [
    {
     "name": "stdout",
     "output_type": "stream",
     "text": [
      "shocks <environments.shock.Shock object at 0x0000015B5E9BA3B0>\n",
      "shocks <environments.shock.Shock object at 0x0000015B5E9BA3B0>\n",
      "shocks <environments.shock.Shock object at 0x0000015B5E9BA3B0>\n",
      "shocks <environments.shock.Shock object at 0x0000015B5E9BA3B0>\n",
      "[[0.1 0.  0. ]\n",
      " [0.  0.1 0. ]\n",
      " [0.  0.  0.1]]\n",
      "6.070964943473935\n",
      "0.441 0.527 -0.778 5.57\n",
      "\n",
      "\n",
      "pgas 0.42406249389866074\n",
      "shock tables [array([[0.10802088, 0.42893222, 0.3432101 , 0.1198368 ],\n",
      "       [0.        , 0.10802088, 0.65815161, 0.23382751],\n",
      "       [0.        , 0.        , 0.10802088, 0.89197912]])]\n",
      "[[0.1 0.  0. ]\n",
      " [0.  0.1 0. ]\n",
      " [0.  0.  0.1]]\n",
      "6.070964943473935\n",
      "0.441 0.527 -0.778 5.57\n",
      "\n",
      "\n",
      "pgas 0.42102442019162106\n",
      "shock tables [array([[0.10969807, 0.43171524, 0.34098025, 0.11760644],\n",
      "       [0.        , 0.10969807, 0.65990314, 0.23039879],\n",
      "       [0.        , 0.        , 0.10969807, 0.89030193]])]\n",
      "[[0.1 0.  0. ]\n",
      " [0.  0.1 0. ]\n",
      " [0.  0.  0.1]]\n",
      "6.070964943473935\n",
      "0.441 0.527 -0.778 5.57\n",
      "\n",
      "\n",
      "pgas 0.42193508100562793\n",
      "shock tables [array([[0.10919237, 0.43088115, 0.34165292, 0.11827356],\n",
      "       [0.        , 0.10919237, 0.65938146, 0.23142617],\n",
      "       [0.        , 0.        , 0.10919237, 0.89080763]])]\n",
      "[[0.1 0.  0. ]\n",
      " [0.  0.1 0. ]\n",
      " [0.  0.  0.1]]\n",
      "6.070964943473935\n",
      "0.441 0.527 -0.778 5.57\n",
      "\n",
      "\n",
      "pgas 0.41890912852040113\n",
      "shock tables [array([[0.11088262, 0.43365214, 0.33940364, 0.1160616 ],\n",
      "       [0.        , 0.11088262, 0.66110367, 0.22801371],\n",
      "       [0.        , 0.        , 0.11088262, 0.88911738]])]\n",
      "[[0.1 0.  0. ]\n",
      " [0.  0.1 0. ]\n",
      " [0.  0.  0.1]]\n",
      "6.070964943473935\n",
      "0.441 0.527 -0.778 5.57\n",
      "\n",
      "\n",
      "pgas 0.41911920540469333\n",
      "shock tables [array([[0.11076435, 0.43345981, 0.33956111, 0.11621473],\n",
      "       [0.        , 0.11076435, 0.66098515, 0.2282505 ],\n",
      "       [0.        , 0.        , 0.11076435, 0.88923565]])]\n",
      "[[0.1 0.  0. ]\n",
      " [0.  0.1 0. ]\n",
      " [0.  0.  0.1]]\n",
      "6.070964943473935\n",
      "0.441 0.527 -0.778 5.57\n",
      "\n",
      "\n",
      "pgas 0.42032711378370585\n",
      "shock tables [array([[0.11008702, 0.43235383, 0.34046271, 0.11709644],\n",
      "       [0.        , 0.11008702, 0.66030064, 0.22961234],\n",
      "       [0.        , 0.        , 0.11008702, 0.88991298]])]\n",
      "[[0.1 0.  0. ]\n",
      " [0.  0.1 0. ]\n",
      " [0.  0.  0.1]]\n",
      "6.070964943473935\n",
      "0.441 0.527 -0.778 5.57\n",
      "\n",
      "\n",
      "pgas 0.42406249389866074\n",
      "shock tables [array([[0.10802088, 0.42893222, 0.3432101 , 0.1198368 ],\n",
      "       [0.        , 0.10802088, 0.65815161, 0.23382751],\n",
      "       [0.        , 0.        , 0.10802088, 0.89197912]])]\n",
      "[[0.1 0.  0. ]\n",
      " [0.  0.1 0. ]\n",
      " [0.  0.  0.1]]\n",
      "6.070964943473935\n",
      "0.441 0.527 -0.778 5.57\n",
      "\n",
      "\n",
      "pgas 0.42384344078678354\n",
      "shock tables [array([[0.10814087, 0.42913292, 0.34305068, 0.11967553],\n",
      "       [0.        , 0.10814087, 0.65827896, 0.23358017],\n",
      "       [0.        , 0.        , 0.10814087, 0.89185913]])]\n"
     ]
    }
   ],
   "source": [
    "env = EnvironmentLoader(\"environments/config/environment_presets/small_environment.yaml\").to_numpy()"
   ]
  },
  {
   "cell_type": "code",
   "execution_count": 188,
   "metadata": {},
   "outputs": [
    {
     "name": "stdout",
     "output_type": "stream",
     "text": [
      "\n",
      "\n",
      "pgas [0.50563733 0.24850345]\n",
      "shock tables [array([[0.07202005, 0.35571485, 0.38844398, 0.18382113],\n",
      "       [0.        , 0.07202005, 0.60212763, 0.32585232],\n",
      "       [0.        , 0.        , 0.07202005, 0.92797995]]), array([[0.27156   , 0.55168387, 0.15458498, 0.02217114],\n",
      "       [0.        , 0.27156   , 0.66921792, 0.05922208],\n",
      "       [0.        , 0.        , 0.27156   , 0.72844   ]])]\n",
      "\n",
      "\n",
      "pgas [0.50415521 0.246863  ]\n",
      "shock tables [array([[0.072542  , 0.35699338, 0.38786045, 0.18260418],\n",
      "       [0.        , 0.072542  , 0.60325656, 0.32420145],\n",
      "       [0.        , 0.        , 0.072542  , 0.927458  ]]), array([[0.2739706 , 0.55194495, 0.15245436, 0.02163008],\n",
      "       [0.        , 0.2739706 , 0.66801773, 0.05801167],\n",
      "       [0.        , 0.        , 0.2739706 , 0.7260294 ]])]\n",
      "\n",
      "\n",
      "pgas [0.50514145 0.24515285]\n",
      "shock tables [array([[0.07219422, 0.35614233, 0.38824966, 0.1834138 ],\n",
      "       [0.        , 0.07219422, 0.60250565, 0.32530013],\n",
      "       [0.        , 0.        , 0.07219422, 0.92780578]]), array([[0.27650687, 0.55218507, 0.15023382, 0.02107423],\n",
      "       [0.        , 0.27650687, 0.66673088, 0.05676225],\n",
      "       [0.        , 0.        , 0.27650687, 0.72349313]])]\n",
      "\n",
      "\n",
      "pgas [0.5036404  0.24358031]\n",
      "shock tables [array([[0.07272427, 0.35743809, 0.38765583, 0.18218181],\n",
      "       [0.        , 0.07272427, 0.60364805, 0.32362768],\n",
      "       [0.        , 0.        , 0.07272427, 0.92727573]]), array([[0.27886019, 0.55237652, 0.1481928 , 0.02057049],\n",
      "       [0.        , 0.27886019, 0.66551518, 0.05562463],\n",
      "       [0.        , 0.        , 0.27886019, 0.72113981]])]\n",
      "\n",
      "\n",
      "pgas [0.50351915 0.24453329]\n",
      "shock tables [array([[0.07276727, 0.35754287, 0.38760749, 0.18208236],\n",
      "       [0.        , 0.07276727, 0.6037402 , 0.32349252],\n",
      "       [0.        , 0.        , 0.07276727, 0.92723273]]), array([[0.27743163, 0.55226389, 0.14942957, 0.02087492],\n",
      "       [0.        , 0.27743163, 0.66625562, 0.05631275],\n",
      "       [0.        , 0.        , 0.27743163, 0.72256837]])]\n",
      "\n",
      "\n",
      "pgas [0.50446203 0.24388967]\n",
      "shock tables [array([[0.0724336 , 0.35672849, 0.38798192, 0.18285598],\n",
      "       [0.        , 0.0724336 , 0.60302308, 0.32454332],\n",
      "       [0.        , 0.        , 0.0724336 , 0.9275664 ]]), array([[0.27839563, 0.5523411 , 0.14859424, 0.02066903],\n",
      "       [0.        , 0.27839563, 0.6657568 , 0.05584757],\n",
      "       [0.        , 0.        , 0.27839563, 0.72160437]])]\n",
      "\n",
      "\n",
      "pgas [0.50563733 0.24850345]\n",
      "shock tables [array([[0.07202005, 0.35571485, 0.38844398, 0.18382113],\n",
      "       [0.        , 0.07202005, 0.60212763, 0.32585232],\n",
      "       [0.        , 0.        , 0.07202005, 0.92797995]]), array([[0.27156   , 0.55168387, 0.15458498, 0.02217114],\n",
      "       [0.        , 0.27156   , 0.66921792, 0.05922208],\n",
      "       [0.        , 0.        , 0.27156   , 0.72844   ]])]\n",
      "\n",
      "\n",
      "pgas [0.50576041 0.24749436]\n",
      "shock tables [array([[0.07197689, 0.35560879, 0.38849206, 0.18392225],\n",
      "       [0.        , 0.07197689, 0.60203375, 0.32598936],\n",
      "       [0.        , 0.        , 0.07197689, 0.92802311]]), array([[0.27304026, 0.55184801, 0.15327433, 0.02183741],\n",
      "       [0.        , 0.27304026, 0.6684836 , 0.05847615],\n",
      "       [0.        , 0.        , 0.27304026, 0.72695974]])]\n",
      "[20 50]\n"
     ]
    }
   ],
   "source": [
    "env.reset()\n",
    "print(env.shocks.times, env.shocks.magni, env.shocks.locs)"
   ]
  },
  {
   "cell_type": "code",
   "execution_count": 190,
   "metadata": {},
   "outputs": [
    {
     "name": "stdout",
     "output_type": "stream",
     "text": [
      "[20 50] [6.40804688 5.05981723] [[ 0.3308896   0.52454204]\n",
      " [-0.15857552 -0.00142751]]\n"
     ]
    }
   ],
   "source": [
    "print(env.shocks.times, env.shocks.magni, env.shocks.locs)"
   ]
  },
  {
   "cell_type": "code",
   "execution_count": 136,
   "metadata": {},
   "outputs": [
    {
     "data": {
      "text/plain": [
       "<environments.road_env.RoadSegment at 0x15b5de44be0>"
      ]
     },
     "execution_count": 136,
     "metadata": {},
     "output_type": "execute_result"
    }
   ],
   "source": [
    "for edge in env.graph.es():\n",
    "    s = edge[\"road_segments\"].segments[0]\n",
    "    break\n",
    "s"
   ]
  },
  {
   "cell_type": "code",
   "execution_count": 171,
   "metadata": {},
   "outputs": [
    {
     "data": {
      "image/png": "[encoded data removed]",
      "text/plain": [
       "<Figure size 1000x600 with 1 Axes>"
      ]
     },
     "metadata": {},
     "output_type": "display_data"
    }
   ],
   "source": [
    "level = 1\n",
    "x = np.linspace(1e-10,1.5,100)\n",
    "y = np.zeros((len(x), 5))\n",
    "y[:,0] = 1\n",
    "\n",
    "shift_table = np.array([[0.1, 0, 0], [0.0, 0.1, 0], [0, 0, 0.1]])\n",
    "\n",
    "plt.figure(figsize=(10,6))\n",
    "for i, k in enumerate(x):\n",
    "    f = env.shocks.get_fragilities(pga=k, theta_mat=env.shocks.fragility_dict[\"theta_mat\"], sigma=0.64, shift=shift_table)\n",
    "    for m in range(1,4):\n",
    "        y[i,m] = f[level,m-1] if f[level,m-1] is not np.nan else 1\n",
    "for j in range(y.shape[1]):\n",
    "    plt.plot(x, y[:,j])\n",
    "\n",
    "plt.text(x=0.1, y=0.9, s=r\"$S_0$\", fontsize=14)\n",
    "plt.text(x=0.3, y=0.6, s=r\"$S_1$\", fontsize=14)\n",
    "plt.text(x=0.6, y=0.45, s=r\"$S_2$\", fontsize=14)\n",
    "plt.text(x=0.9, y=0.1, s=r\"$S_3$\", fontsize=14)\n",
    "plt.hlines(y=1, xmin=np.min(x), xmax=np.max(x), linestyles='dashed', color='k')\n",
    "plt.hlines(y=0.1, xmin=np.min(x), xmax=np.max(x), linestyles='dashed', color='k')\n",
    "plt.hlines(y=0.6, xmin=np.min(x), xmax=np.max(x), linestyles='dashed', color='k')\n",
    "plt.show()"
   ]
  },
  {
   "cell_type": "code",
   "execution_count": 175,
   "metadata": {},
   "outputs": [
    {
     "name": "stderr",
     "output_type": "stream",
     "text": [
      "c:\\Users\\danie\\Documents\\Daniel\\Uni\\Dring\\DRL\\IMP-RL-Challenge\\imp-rl-challenge\\environments\\shock.py:151: RuntimeWarning: divide by zero encountered in log\n",
      "  print(type(theta_mat), theta_mat)\n"
     ]
    }
   ],
   "source": [
    "f = env.shocks.get_fragilities(pga=0.00, theta_mat=env.shocks.fragility_dict[\"theta_mat\"], sigma=0.64, shift=shift_table)"
   ]
  },
  {
   "cell_type": "code",
   "execution_count": 176,
   "metadata": {},
   "outputs": [
    {
     "data": {
      "text/plain": [
       "0.0"
      ]
     },
     "execution_count": 176,
     "metadata": {},
     "output_type": "execute_result"
    }
   ],
   "source": [
    "np.exp(sp.stats.norm.ppf(0))"
   ]
  },
  {
   "cell_type": "code",
   "execution_count": 174,
   "metadata": {},
   "outputs": [
    {
     "data": {
      "text/plain": [
       "array([[8.97393089e-01, 1.02606911e-01, 6.75950750e-22, 1.09523800e-26],\n",
       "       [0.00000000e+00, 8.97393089e-01, 1.02606911e-01, 1.22737285e-24],\n",
       "       [0.00000000e+00, 0.00000000e+00, 8.97393089e-01, 1.02606911e-01]])"
      ]
     },
     "execution_count": 174,
     "metadata": {},
     "output_type": "execute_result"
    }
   ],
   "source": [
    "env.shocks.get_det_probs_from_fragility_matrix(frag_mat=f)"
   ]
  },
  {
   "cell_type": "code",
   "execution_count": null,
   "metadata": {},
   "outputs": [],
   "source": []
  },
  {
   "cell_type": "code",
   "execution_count": null,
   "metadata": {},
   "outputs": [],
   "source": []
  },
  {
   "cell_type": "code",
   "execution_count": 31,
   "metadata": {},
   "outputs": [
    {
     "name": "stdout",
     "output_type": "stream",
     "text": [
      "here\n",
      "shock coordinates {'x_min': 1.8886900843999999, 'x_max': 6.897450152599999, 'y_min': 49.17067839, 'y_max': 51.833712330000004}\n",
      "c:\\Users\\danie\\Documents\\Daniel\\Uni\\Dring\\DRL\\IMP-RL-Challenge\\imp-rl-challenge\n"
     ]
    }
   ],
   "source": [
    "env = EnvironmentLoader(\"environments/config/environment_presets/large_environment.yaml\").to_numpy()"
   ]
  },
  {
   "cell_type": "code",
   "execution_count": 71,
   "metadata": {},
   "outputs": [
    {
     "name": "stdout",
     "output_type": "stream",
     "text": [
      "[ 2 14] [6.36020367 5.55433896]\n"
     ]
    }
   ],
   "source": [
    "env.reset()\n",
    "print(env.shocks.times, env.shocks.magni)"
   ]
  },
  {
   "cell_type": "code",
   "execution_count": 72,
   "metadata": {},
   "outputs": [
    {
     "data": {
      "text/plain": [
       "<environments.shock.Shock at 0x15b59601330>"
      ]
     },
     "execution_count": 72,
     "metadata": {},
     "output_type": "execute_result"
    }
   ],
   "source": [
    "env.shocks"
   ]
  },
  {
   "cell_type": "code",
   "execution_count": 73,
   "metadata": {},
   "outputs": [
    {
     "name": "stdout",
     "output_type": "stream",
     "text": [
      "None\n",
      "None\n",
      "None\n",
      "None\n"
     ]
    }
   ],
   "source": [
    "for edge in env.graph.es():\n",
    "    print(edge[\"road_segments\"].shocks)"
   ]
  },
  {
   "cell_type": "code",
   "execution_count": 64,
   "metadata": {},
   "outputs": [
    {
     "name": "stdout",
     "output_type": "stream",
     "text": [
      "None\n",
      "None\n",
      "None\n",
      "None\n",
      "None\n",
      "None\n",
      "None\n",
      "None\n"
     ]
    }
   ],
   "source": [
    "for edge in env.graph.es():\n",
    "    for s in edge[\"road_segments\"].segments:\n",
    "        #print(s.pgas, s.fragilities)\n",
    "        print(s.shocks)"
   ]
  },
  {
   "cell_type": "code",
   "execution_count": 37,
   "metadata": {},
   "outputs": [
    {
     "data": {
      "text/plain": [
       "array([['0.24', '0.45', '0.9'],\n",
       "       ['None', '0.24', '0.675'],\n",
       "       ['None', 'None', '0.24']], dtype='<U32')"
      ]
     },
     "execution_count": 37,
     "metadata": {},
     "output_type": "execute_result"
    }
   ],
   "source": [
    "env.shocks.theta_mat"
   ]
  },
  {
   "cell_type": "code",
   "execution_count": 17,
   "metadata": {},
   "outputs": [
    {
     "ename": "TypeError",
     "evalue": "Shock.get_shock_location() got an unexpected keyword argument 'dynamic'",
     "output_type": "error",
     "traceback": [
      "\u001b[1;31m---------------------------------------------------------------------------\u001b[0m",
      "\u001b[1;31mTypeError\u001b[0m                                 Traceback (most recent call last)",
      "Cell \u001b[1;32mIn[17], line 1\u001b[0m\n\u001b[1;32m----> 1\u001b[0m \u001b[43menv\u001b[49m\u001b[38;5;241;43m.\u001b[39;49m\u001b[43mshocks\u001b[49m\u001b[38;5;241;43m.\u001b[39;49m\u001b[43mreset\u001b[49m\u001b[43m(\u001b[49m\u001b[43m)\u001b[49m\n",
      "File \u001b[1;32mc:\\Users\\danie\\Documents\\Daniel\\Uni\\Dring\\DRL\\IMP-RL-Challenge\\imp-rl-challenge\\environments\\shock.py:267\u001b[0m, in \u001b[0;36mShock.reset\u001b[1;34m(self)\u001b[0m\n\u001b[0;32m    265\u001b[0m \u001b[38;5;28;01mif\u001b[39;00m \u001b[38;5;129;01mnot\u001b[39;00m \u001b[38;5;124m\"\u001b[39m\u001b[38;5;124mself.theta_mat\u001b[39m\u001b[38;5;124m\"\u001b[39m \u001b[38;5;129;01min\u001b[39;00m \u001b[38;5;28mlocals\u001b[39m():\n\u001b[0;32m    266\u001b[0m     \u001b[38;5;28mself\u001b[39m\u001b[38;5;241m.\u001b[39mget_theta_mat_from_vec(theta_vec\u001b[38;5;241m=\u001b[39m\u001b[38;5;28mself\u001b[39m\u001b[38;5;241m.\u001b[39mfragility_dict\u001b[38;5;241m.\u001b[39mget(\u001b[38;5;124m\"\u001b[39m\u001b[38;5;124mtheta_vec\u001b[39m\u001b[38;5;124m\"\u001b[39m))\n\u001b[1;32m--> 267\u001b[0m \u001b[38;5;28mself\u001b[39m\u001b[38;5;241m.\u001b[39mtimes, \u001b[38;5;28mself\u001b[39m\u001b[38;5;241m.\u001b[39mmagni, \u001b[38;5;28mself\u001b[39m\u001b[38;5;241m.\u001b[39mlocs \u001b[38;5;241m=\u001b[39m \u001b[38;5;28;43mself\u001b[39;49m\u001b[38;5;241;43m.\u001b[39;49m\u001b[43mget_shocks\u001b[49m\u001b[43m(\u001b[49m\n\u001b[0;32m    268\u001b[0m \u001b[43m    \u001b[49m\u001b[43mmax_timesteps\u001b[49m\u001b[38;5;241;43m=\u001b[39;49m\u001b[38;5;28;43mself\u001b[39;49m\u001b[38;5;241;43m.\u001b[39;49m\u001b[43mmax_timesteps\u001b[49m\u001b[43m,\u001b[49m\n\u001b[0;32m    269\u001b[0m \u001b[43m    \u001b[49m\u001b[43mlambda_t\u001b[49m\u001b[38;5;241;43m=\u001b[39;49m\u001b[38;5;28;43mself\u001b[39;49m\u001b[38;5;241;43m.\u001b[39;49m\u001b[43mlambda_t\u001b[49m\u001b[43m,\u001b[49m\n\u001b[0;32m    270\u001b[0m \u001b[43m    \u001b[49m\u001b[43mmagnitude_dict\u001b[49m\u001b[38;5;241;43m=\u001b[39;49m\u001b[38;5;28;43mself\u001b[39;49m\u001b[38;5;241;43m.\u001b[39;49m\u001b[43mmagnitude_dict\u001b[49m\u001b[43m,\u001b[49m\n\u001b[0;32m    271\u001b[0m \u001b[43m    \u001b[49m\u001b[43mlocation_dict\u001b[49m\u001b[38;5;241;43m=\u001b[39;49m\u001b[38;5;28;43mself\u001b[39;49m\u001b[38;5;241;43m.\u001b[39;49m\u001b[43mlocation_dict\u001b[49m\u001b[43m,\u001b[49m\n\u001b[0;32m    272\u001b[0m \u001b[43m    \u001b[49m\u001b[43mrandom_generator\u001b[49m\u001b[38;5;241;43m=\u001b[39;49m\u001b[38;5;28;43mself\u001b[39;49m\u001b[38;5;241;43m.\u001b[39;49m\u001b[43mrandom_generator\u001b[49m\u001b[43m,\u001b[49m\n\u001b[0;32m    273\u001b[0m \u001b[43m\u001b[49m\u001b[43m)\u001b[49m\n\u001b[0;32m    274\u001b[0m \u001b[38;5;28;01mreturn\u001b[39;00m\n",
      "File \u001b[1;32mc:\\Users\\danie\\Documents\\Daniel\\Uni\\Dring\\DRL\\IMP-RL-Challenge\\imp-rl-challenge\\environments\\shock.py:239\u001b[0m, in \u001b[0;36mShock.get_shocks\u001b[1;34m(self, max_timesteps, lambda_t, magnitude_dict, location_dict, random_generator)\u001b[0m\n\u001b[0;32m    235\u001b[0m \u001b[38;5;28;01mif\u001b[39;00m \u001b[38;5;28mlen\u001b[39m(times) \u001b[38;5;241m>\u001b[39m \u001b[38;5;241m0\u001b[39m:\n\u001b[0;32m    236\u001b[0m     magni \u001b[38;5;241m=\u001b[39m \u001b[38;5;28mself\u001b[39m\u001b[38;5;241m.\u001b[39mget_shock_magnitude(\n\u001b[0;32m    237\u001b[0m         \u001b[38;5;241m*\u001b[39m\u001b[38;5;241m*\u001b[39mmagnitude_dict, size\u001b[38;5;241m=\u001b[39m\u001b[38;5;28mlen\u001b[39m(times), random_generator\u001b[38;5;241m=\u001b[39mrandom_generator\n\u001b[0;32m    238\u001b[0m     )\n\u001b[1;32m--> 239\u001b[0m     locs \u001b[38;5;241m=\u001b[39m \u001b[38;5;28mself\u001b[39m\u001b[38;5;241m.\u001b[39mget_shock_location(\n\u001b[0;32m    240\u001b[0m         \u001b[38;5;241m*\u001b[39m\u001b[38;5;241m*\u001b[39mlocation_dict, N_samples\u001b[38;5;241m=\u001b[39m\u001b[38;5;28mlen\u001b[39m(times), random_generator\u001b[38;5;241m=\u001b[39mrandom_generator\n\u001b[0;32m    241\u001b[0m     )\n\u001b[0;32m    242\u001b[0m \u001b[38;5;28;01mreturn\u001b[39;00m times, magni, locs\n",
      "\u001b[1;31mTypeError\u001b[0m: Shock.get_shock_location() got an unexpected keyword argument 'dynamic'"
     ]
    }
   ],
   "source": [
    "env.shocks.reset()"
   ]
  },
  {
   "cell_type": "code",
   "execution_count": 28,
   "metadata": {},
   "outputs": [
    {
     "data": {
      "text/plain": [
       "0.33"
      ]
     },
     "execution_count": 28,
     "metadata": {},
     "output_type": "execute_result"
    }
   ],
   "source": [
    "env.graph.es[0]['road_segments'].segments[0].position_y"
   ]
  },
  {
   "cell_type": "code",
   "execution_count": null,
   "metadata": {},
   "outputs": [],
   "source": []
  },
  {
   "cell_type": "code",
   "execution_count": null,
   "metadata": {},
   "outputs": [],
   "source": []
  },
  {
   "cell_type": "code",
   "execution_count": 4,
   "metadata": {},
   "outputs": [
    {
     "data": {
      "text/plain": [
       "[2, 2, 2, 2]"
      ]
     },
     "execution_count": 4,
     "metadata": {},
     "output_type": "execute_result"
    }
   ],
   "source": [
    "E.edge_segments_numbers"
   ]
  },
  {
   "cell_type": "code",
   "execution_count": null,
   "metadata": {},
   "outputs": [],
   "source": []
  },
  {
   "cell_type": "code",
   "execution_count": null,
   "metadata": {},
   "outputs": [],
   "source": []
  },
  {
   "cell_type": "code",
   "execution_count": 77,
   "metadata": {},
   "outputs": [],
   "source": [
    "dt = E.graph.es['road_segments'][0].segments[0].deterioration_table"
   ]
  },
  {
   "cell_type": "code",
   "execution_count": 202,
   "metadata": {},
   "outputs": [
    {
     "name": "stdout",
     "output_type": "stream",
     "text": [
      "[13 17] [5.27119251 6.07218669]\n"
     ]
    }
   ],
   "source": [
    "S = Shock(lambda_t=1/5, lambda_m=np.log(20)/5, max_timesteps=50)\n",
    "print(S.times, S.magnits)"
   ]
  },
  {
   "cell_type": "code",
   "execution_count": 237,
   "metadata": {},
   "outputs": [
    {
     "name": "stdout",
     "output_type": "stream",
     "text": [
      "In shock [33] 33 [10.9398719]\n",
      "0 0 0\n",
      "10.93987189859567\n",
      "[[1, 1], [1, 1], [1, 1], [1, 1]]\n",
      "1\n",
      "[[[0.9 0.1 0.  0. ]\n",
      "  [0.  0.9 0.1 0. ]\n",
      "  [0.  0.  0.9 0.1]\n",
      "  [0.  0.  0.  1. ]]\n",
      "\n",
      " [[0.9 0.1 0.  0. ]\n",
      "  [0.  0.9 0.1 0. ]\n",
      "  [0.  0.  0.9 0.1]\n",
      "  [0.  0.  0.  1. ]]\n",
      "\n",
      " [[1.  0.  0.  0. ]\n",
      "  [0.9 0.1 0.  0. ]\n",
      "  [0.8 0.2 0.  0. ]\n",
      "  [0.7 0.2 0.1 0. ]]\n",
      "\n",
      " [[1.  0.  0.  0. ]\n",
      "  [1.  0.  0.  0. ]\n",
      "  [1.  0.  0.  0. ]\n",
      "  [1.  0.  0.  0. ]]]\n",
      "[[0.9 0.1 0.  0. ]\n",
      " [0.  0.9 0.1 0. ]\n",
      " [0.  0.  0.9 0.1]\n",
      " [0.  0.  0.  1. ]]\n",
      "0 1 0\n",
      "10.93987189859567\n",
      "[[1, 1], [1, 1], [1, 1], [1, 1]]\n",
      "1\n",
      "[[[0.9 0.1 0.  0. ]\n",
      "  [0.  0.9 0.1 0. ]\n",
      "  [0.  0.  0.9 0.1]\n",
      "  [0.  0.  0.  1. ]]\n",
      "\n",
      " [[0.9 0.1 0.  0. ]\n",
      "  [0.  0.9 0.1 0. ]\n",
      "  [0.  0.  0.9 0.1]\n",
      "  [0.  0.  0.  1. ]]\n",
      "\n",
      " [[1.  0.  0.  0. ]\n",
      "  [0.9 0.1 0.  0. ]\n",
      "  [0.8 0.2 0.  0. ]\n",
      "  [0.7 0.2 0.1 0. ]]\n",
      "\n",
      " [[1.  0.  0.  0. ]\n",
      "  [1.  0.  0.  0. ]\n",
      "  [1.  0.  0.  0. ]\n",
      "  [1.  0.  0.  0. ]]]\n",
      "[[0.9 0.1 0.  0. ]\n",
      " [0.  0.9 0.1 0. ]\n",
      " [0.  0.  0.9 0.1]\n",
      " [0.  0.  0.  1. ]]\n",
      "1 0 0\n",
      "10.93987189859567\n",
      "[[1, 1], [1, 1], [1, 1], [1, 1]]\n",
      "1\n",
      "[[[0.9 0.1 0.  0. ]\n",
      "  [0.  0.9 0.1 0. ]\n",
      "  [0.  0.  0.9 0.1]\n",
      "  [0.  0.  0.  1. ]]\n",
      "\n",
      " [[0.9 0.1 0.  0. ]\n",
      "  [0.  0.9 0.1 0. ]\n",
      "  [0.  0.  0.9 0.1]\n",
      "  [0.  0.  0.  1. ]]\n",
      "\n",
      " [[1.  0.  0.  0. ]\n",
      "  [0.9 0.1 0.  0. ]\n",
      "  [0.8 0.2 0.  0. ]\n",
      "  [0.7 0.2 0.1 0. ]]\n",
      "\n",
      " [[1.  0.  0.  0. ]\n",
      "  [1.  0.  0.  0. ]\n",
      "  [1.  0.  0.  0. ]\n",
      "  [1.  0.  0.  0. ]]]\n",
      "[[0.9 0.1 0.  0. ]\n",
      " [0.  0.9 0.1 0. ]\n",
      " [0.  0.  0.9 0.1]\n",
      " [0.  0.  0.  1. ]]\n",
      "1 1 0\n",
      "10.93987189859567\n",
      "[[1, 1], [1, 1], [1, 1], [1, 1]]\n",
      "1\n",
      "[[[0.9 0.1 0.  0. ]\n",
      "  [0.  0.9 0.1 0. ]\n",
      "  [0.  0.  0.9 0.1]\n",
      "  [0.  0.  0.  1. ]]\n",
      "\n",
      " [[0.9 0.1 0.  0. ]\n",
      "  [0.  0.9 0.1 0. ]\n",
      "  [0.  0.  0.9 0.1]\n",
      "  [0.  0.  0.  1. ]]\n",
      "\n",
      " [[1.  0.  0.  0. ]\n",
      "  [0.9 0.1 0.  0. ]\n",
      "  [0.8 0.2 0.  0. ]\n",
      "  [0.7 0.2 0.1 0. ]]\n",
      "\n",
      " [[1.  0.  0.  0. ]\n",
      "  [1.  0.  0.  0. ]\n",
      "  [1.  0.  0.  0. ]\n",
      "  [1.  0.  0.  0. ]]]\n",
      "[[0.9 0.1 0.  0. ]\n",
      " [0.  0.9 0.1 0. ]\n",
      " [0.  0.  0.9 0.1]\n",
      " [0.  0.  0.  1. ]]\n",
      "2 0 0\n",
      "10.93987189859567\n",
      "[[1, 1], [1, 1], [1, 1], [1, 1]]\n",
      "1\n",
      "[[[0.9 0.1 0.  0. ]\n",
      "  [0.  0.9 0.1 0. ]\n",
      "  [0.  0.  0.9 0.1]\n",
      "  [0.  0.  0.  1. ]]\n",
      "\n",
      " [[0.9 0.1 0.  0. ]\n",
      "  [0.  0.9 0.1 0. ]\n",
      "  [0.  0.  0.9 0.1]\n",
      "  [0.  0.  0.  1. ]]\n",
      "\n",
      " [[1.  0.  0.  0. ]\n",
      "  [0.9 0.1 0.  0. ]\n",
      "  [0.8 0.2 0.  0. ]\n",
      "  [0.7 0.2 0.1 0. ]]\n",
      "\n",
      " [[1.  0.  0.  0. ]\n",
      "  [1.  0.  0.  0. ]\n",
      "  [1.  0.  0.  0. ]\n",
      "  [1.  0.  0.  0. ]]]\n",
      "[[0.9 0.1 0.  0. ]\n",
      " [0.  0.9 0.1 0. ]\n",
      " [0.  0.  0.9 0.1]\n",
      " [0.  0.  0.  1. ]]\n",
      "2 1 0\n",
      "10.93987189859567\n",
      "[[1, 1], [1, 1], [1, 1], [1, 1]]\n",
      "1\n",
      "[[[0.9 0.1 0.  0. ]\n",
      "  [0.  0.9 0.1 0. ]\n",
      "  [0.  0.  0.9 0.1]\n",
      "  [0.  0.  0.  1. ]]\n",
      "\n",
      " [[0.9 0.1 0.  0. ]\n",
      "  [0.  0.9 0.1 0. ]\n",
      "  [0.  0.  0.9 0.1]\n",
      "  [0.  0.  0.  1. ]]\n",
      "\n",
      " [[1.  0.  0.  0. ]\n",
      "  [0.9 0.1 0.  0. ]\n",
      "  [0.8 0.2 0.  0. ]\n",
      "  [0.7 0.2 0.1 0. ]]\n",
      "\n",
      " [[1.  0.  0.  0. ]\n",
      "  [1.  0.  0.  0. ]\n",
      "  [1.  0.  0.  0. ]\n",
      "  [1.  0.  0.  0. ]]]\n",
      "[[0.9 0.1 0.  0. ]\n",
      " [0.  0.9 0.1 0. ]\n",
      " [0.  0.  0.9 0.1]\n",
      " [0.  0.  0.  1. ]]\n",
      "3 0 0\n",
      "10.93987189859567\n",
      "[[1, 1], [1, 1], [1, 1], [1, 1]]\n",
      "1\n",
      "[[[0.9 0.1 0.  0. ]\n",
      "  [0.  0.9 0.1 0. ]\n",
      "  [0.  0.  0.9 0.1]\n",
      "  [0.  0.  0.  1. ]]\n",
      "\n",
      " [[0.9 0.1 0.  0. ]\n",
      "  [0.  0.9 0.1 0. ]\n",
      "  [0.  0.  0.9 0.1]\n",
      "  [0.  0.  0.  1. ]]\n",
      "\n",
      " [[1.  0.  0.  0. ]\n",
      "  [0.9 0.1 0.  0. ]\n",
      "  [0.8 0.2 0.  0. ]\n",
      "  [0.7 0.2 0.1 0. ]]\n",
      "\n",
      " [[1.  0.  0.  0. ]\n",
      "  [1.  0.  0.  0. ]\n",
      "  [1.  0.  0.  0. ]\n",
      "  [1.  0.  0.  0. ]]]\n",
      "[[0.9 0.1 0.  0. ]\n",
      " [0.  0.9 0.1 0. ]\n",
      " [0.  0.  0.9 0.1]\n",
      " [0.  0.  0.  1. ]]\n",
      "3 1 0\n",
      "10.93987189859567\n",
      "[[1, 1], [1, 1], [1, 1], [1, 1]]\n",
      "1\n",
      "[[[0.9 0.1 0.  0. ]\n",
      "  [0.  0.9 0.1 0. ]\n",
      "  [0.  0.  0.9 0.1]\n",
      "  [0.  0.  0.  1. ]]\n",
      "\n",
      " [[0.9 0.1 0.  0. ]\n",
      "  [0.  0.9 0.1 0. ]\n",
      "  [0.  0.  0.9 0.1]\n",
      "  [0.  0.  0.  1. ]]\n",
      "\n",
      " [[1.  0.  0.  0. ]\n",
      "  [0.9 0.1 0.  0. ]\n",
      "  [0.8 0.2 0.  0. ]\n",
      "  [0.7 0.2 0.1 0. ]]\n",
      "\n",
      " [[1.  0.  0.  0. ]\n",
      "  [1.  0.  0.  0. ]\n",
      "  [1.  0.  0.  0. ]\n",
      "  [1.  0.  0.  0. ]]]\n",
      "[[0.9 0.1 0.  0. ]\n",
      " [0.  0.9 0.1 0. ]\n",
      " [0.  0.  0.9 0.1]\n",
      " [0.  0.  0.  1. ]]\n",
      "[<environment.RoadEdge object at 0x000001EF3E5AE800>, <environment.RoadEdge object at 0x000001EF3E5AE980>, <environment.RoadEdge object at 0x000001EF3E5AEAD0>, <environment.RoadEdge object at 0x000001EF3E5AEE60>]\n",
      "[[[9.00000000e-01 1.00000000e-01 0.00000000e+00 0.00000000e+00]\n",
      "  [0.00000000e+00 9.00000000e-01 1.00000000e-01 0.00000000e+00]\n",
      "  [0.00000000e+00 0.00000000e+00 9.00000000e-01 1.00000000e-01]\n",
      "  [0.00000000e+00 0.00000000e+00 0.00000000e+00 1.00000000e+00]]\n",
      "\n",
      " [[1.03363123e-05 9.99989664e-01 0.00000000e+00 0.00000000e+00]\n",
      "  [0.00000000e+00 1.03363123e-05 9.99989664e-01 0.00000000e+00]\n",
      "  [0.00000000e+00 0.00000000e+00 1.03363123e-05 9.99989664e-01]\n",
      "  [0.00000000e+00 0.00000000e+00 0.00000000e+00 1.00000000e+00]]\n",
      "\n",
      " [[1.00000000e+00 0.00000000e+00 0.00000000e+00 0.00000000e+00]\n",
      "  [9.00000000e-01 1.00000000e-01 0.00000000e+00 0.00000000e+00]\n",
      "  [8.00000000e-01 2.00000000e-01 0.00000000e+00 0.00000000e+00]\n",
      "  [7.00000000e-01 2.00000000e-01 1.00000000e-01 0.00000000e+00]]\n",
      "\n",
      " [[1.00000000e+00 0.00000000e+00 0.00000000e+00 0.00000000e+00]\n",
      "  [1.00000000e+00 0.00000000e+00 0.00000000e+00 0.00000000e+00]\n",
      "  [1.00000000e+00 0.00000000e+00 0.00000000e+00 0.00000000e+00]\n",
      "  [1.00000000e+00 0.00000000e+00 0.00000000e+00 0.00000000e+00]]]\n",
      "[[[0.9 0.1 0.  0. ]\n",
      "  [0.  0.9 0.1 0. ]\n",
      "  [0.  0.  0.9 0.1]\n",
      "  [0.  0.  0.  1. ]]\n",
      "\n",
      " [[0.9 0.1 0.  0. ]\n",
      "  [0.  0.9 0.1 0. ]\n",
      "  [0.  0.  0.9 0.1]\n",
      "  [0.  0.  0.  1. ]]\n",
      "\n",
      " [[1.  0.  0.  0. ]\n",
      "  [0.9 0.1 0.  0. ]\n",
      "  [0.8 0.2 0.  0. ]\n",
      "  [0.7 0.2 0.1 0. ]]\n",
      "\n",
      " [[1.  0.  0.  0. ]\n",
      "  [1.  0.  0.  0. ]\n",
      "  [1.  0.  0.  0. ]\n",
      "  [1.  0.  0.  0. ]]]\n"
     ]
    }
   ],
   "source": [
    "E = RoadEnvironment(**small_environment_dict)\n",
    "actions = [[1,1] for _ in range(len(E.edge_segments_numbers))]\n",
    "timestep = 0\n",
    "done = False\n",
    "\n",
    "while not done:\n",
    "    timestep += 1\n",
    "    obs, cost, done, info = E.step(actions)"
   ]
  },
  {
   "cell_type": "code",
   "execution_count": null,
   "metadata": {},
   "outputs": [],
   "source": []
  },
  {
   "cell_type": "code",
   "execution_count": 103,
   "metadata": {},
   "outputs": [
    {
     "name": "stdout",
     "output_type": "stream",
     "text": [
      "5\n",
      "0.441 0.527 -0.778 5.57\n",
      "6\n",
      "0.441 0.527 -0.778 5.57\n",
      "7\n",
      "0.441 0.527 -0.778 5.57\n",
      "8\n",
      "0.441 0.527 -0.778 5.57\n"
     ]
    },
    {
     "data": {
      "image/png": "[encoded data removed]",
      "text/plain": [
       "<Figure size 640x480 with 1 Axes>"
      ]
     },
     "metadata": {},
     "output_type": "display_data"
    }
   ],
   "source": [
    "r = np.linspace(1,100,1000)\n",
    "b1_hat = 0.441\n",
    "b2 = 0.527\n",
    "b3 = 0.0\n",
    "b5 = -0.778\n",
    "h = 5.57\n",
    "pga = lambda m, r: b1_hat + b2*(m-6) + b3*(m-6)**2 + b5*np.log(np.sqrt(r**2 + h**2))\n",
    "\n",
    "for k in range(5,9):\n",
    "    plt.plot(r, env.shocks.get_pga_from_distance(magn=k, dist=r, **env.shocks.pga_dict))\n",
    "    plt.plot(r, np.exp(pga(m=k, r=r)), label=f'm={k}')\n",
    "plt.yscale('log')\n",
    "plt.xscale('log')"
   ]
  },
  {
   "cell_type": "code",
   "execution_count": null,
   "metadata": {},
   "outputs": [],
   "source": []
  },
  {
   "cell_type": "code",
   "execution_count": null,
   "metadata": {},
   "outputs": [],
   "source": []
  },
  {
   "cell_type": "code",
   "execution_count": null,
   "metadata": {},
   "outputs": [],
   "source": []
  },
  {
   "cell_type": "code",
   "execution_count": 68,
   "metadata": {},
   "outputs": [
    {
     "data": {
      "text/plain": [
       "[<matplotlib.lines.Line2D at 0x1ef38fbaf20>]"
      ]
     },
     "execution_count": 68,
     "metadata": {},
     "output_type": "execute_result"
    },
    {
     "data": {
      "image/png": "[encoded data removed]",
      "text/plain": [
       "<Figure size 640x480 with 1 Axes>"
      ]
     },
     "metadata": {},
     "output_type": "display_data"
    }
   ],
   "source": [
    "t = np.linspace(0,50,1000)\n",
    "plt.plot(t, sp.stats.expon.pdf(t, loc=0, scale=10))"
   ]
  },
  {
   "cell_type": "code",
   "execution_count": 103,
   "metadata": {},
   "outputs": [
    {
     "data": {
      "text/plain": [
       "(array([2.504e+03, 1.840e+03, 1.421e+03, 1.065e+03, 8.130e+02, 6.120e+02,\n",
       "        4.500e+02, 3.070e+02, 2.390e+02, 1.930e+02, 1.410e+02, 9.000e+01,\n",
       "        7.000e+01, 6.000e+01, 5.300e+01, 4.000e+01, 2.500e+01, 1.600e+01,\n",
       "        1.500e+01, 1.500e+01, 6.000e+00, 7.000e+00, 7.000e+00, 4.000e+00,\n",
       "        0.000e+00, 2.000e+00, 3.000e+00, 0.000e+00, 0.000e+00, 2.000e+00]),\n",
       " array([6.51744918e-04, 1.44187784e+00, 2.88310393e+00, 4.32433002e+00,\n",
       "        5.76555611e+00, 7.20678220e+00, 8.64800829e+00, 1.00892344e+01,\n",
       "        1.15304605e+01, 1.29716866e+01, 1.44129126e+01, 1.58541387e+01,\n",
       "        1.72953648e+01, 1.87365909e+01, 2.01778170e+01, 2.16190431e+01,\n",
       "        2.30602692e+01, 2.45014953e+01, 2.59427214e+01, 2.73839475e+01,\n",
       "        2.88251736e+01, 3.02663996e+01, 3.17076257e+01, 3.31488518e+01,\n",
       "        3.45900779e+01, 3.60313040e+01, 3.74725301e+01, 3.89137562e+01,\n",
       "        4.03549823e+01, 4.17962084e+01, 4.32374345e+01]),\n",
       " <BarContainer object of 30 artists>)"
      ]
     },
     "execution_count": 103,
     "metadata": {},
     "output_type": "execute_result"
    },
    {
     "data": {
      "image/png": "[encoded data removed]",
      "text/plain": [
       "<Figure size 640x480 with 1 Axes>"
      ]
     },
     "metadata": {},
     "output_type": "display_data"
    }
   ],
   "source": [
    "plt.hist(S.get_earthquake_occurrence_time(lambda_t=S.lambda_t, size=10000), bins=30)"
   ]
  },
  {
   "cell_type": "code",
   "execution_count": 71,
   "metadata": {},
   "outputs": [
    {
     "data": {
      "text/plain": [
       "0.044628710262841945"
      ]
     },
     "execution_count": 71,
     "metadata": {},
     "output_type": "execute_result"
    }
   ],
   "source": [
    "S.lambda_m"
   ]
  },
  {
   "cell_type": "code",
   "execution_count": 37,
   "metadata": {},
   "outputs": [
    {
     "data": {
      "text/plain": [
       "array([[5]])"
      ]
     },
     "execution_count": 37,
     "metadata": {},
     "output_type": "execute_result"
    }
   ],
   "source": [
    "S.times"
   ]
  },
  {
   "cell_type": "code",
   "execution_count": 72,
   "metadata": {},
   "outputs": [
    {
     "data": {
      "text/plain": [
       "0.10000000000000002"
      ]
     },
     "execution_count": 72,
     "metadata": {},
     "output_type": "execute_result"
    }
   ],
   "source": [
    "1/(50*(1-np.exp(-5*S.lambda_m)))"
   ]
  },
  {
   "cell_type": "code",
   "execution_count": 97,
   "metadata": {},
   "outputs": [
    {
     "data": {
      "text/plain": [
       "[<matplotlib.lines.Line2D at 0x1ef3c41a5c0>]"
      ]
     },
     "execution_count": 97,
     "metadata": {},
     "output_type": "execute_result"
    },
    {
     "data": {
      "image/png": "[encoded data removed]",
      "text/plain": [
       "<Figure size 640x480 with 1 Axes>"
      ]
     },
     "metadata": {},
     "output_type": "display_data"
    }
   ],
   "source": [
    "l = np.linspace(0.0001, 1, 1000)\n",
    "plt.plot(l, np.log(50*l)/5)"
   ]
  },
  {
   "cell_type": "code",
   "execution_count": 176,
   "metadata": {},
   "outputs": [
    {
     "data": {
      "text/plain": [
       "[<matplotlib.lines.Line2D at 0x1ef3daad540>]"
      ]
     },
     "execution_count": 176,
     "metadata": {},
     "output_type": "execute_result"
    },
    {
     "data": {
      "image/png": "[encoded data removed]",
      "text/plain": [
       "<Figure size 640x480 with 1 Axes>"
      ]
     },
     "metadata": {},
     "output_type": "display_data"
    }
   ],
   "source": [
    "g = np.linspace(0,10,1000)\n",
    "plt.plot(g, sp.stats.expon.pdf(g, loc=0, scale=1/S.lambda_m))\n",
    "plt.plot(g, np.log(10)*y*10**(-y*g))"
   ]
  },
  {
   "cell_type": "code",
   "execution_count": null,
   "metadata": {},
   "outputs": [],
   "source": [
    "\n",
    "for k in [1, 5, 10, 50]:\n",
    "    plt.plot(g, np.log(k)*)"
   ]
  },
  {
   "cell_type": "code",
   "execution_count": 167,
   "metadata": {},
   "outputs": [
    {
     "data": {
      "text/plain": [
       "0.5991464547107982"
      ]
     },
     "execution_count": 167,
     "metadata": {},
     "output_type": "execute_result"
    }
   ],
   "source": [
    "S.lambda_m"
   ]
  },
  {
   "cell_type": "code",
   "execution_count": 171,
   "metadata": {},
   "outputs": [],
   "source": [
    "y = np.log10(20)/5"
   ]
  },
  {
   "cell_type": "code",
   "execution_count": 162,
   "metadata": {},
   "outputs": [
    {
     "name": "stdout",
     "output_type": "stream",
     "text": [
      "0.5991464547107982\n"
     ]
    },
    {
     "data": {
      "text/plain": [
       "(array([3.0563e+04, 2.1347e+04, 1.4543e+04, 1.0267e+04, 7.1350e+03,\n",
       "        4.9300e+03, 3.4630e+03, 2.3520e+03, 1.5960e+03, 1.1540e+03,\n",
       "        8.1300e+02, 5.4300e+02, 3.9200e+02, 2.6300e+02, 1.9800e+02,\n",
       "        1.2500e+02, 1.0500e+02, 6.3000e+01, 4.0000e+01, 3.4000e+01,\n",
       "        1.6000e+01, 1.8000e+01, 1.2000e+01, 4.0000e+00, 9.0000e+00,\n",
       "        6.0000e+00, 3.0000e+00, 2.0000e+00, 2.0000e+00, 2.0000e+00]),\n",
       " array([1.06331661e-06, 6.09563584e-01, 1.21912610e+00, 1.82868863e+00,\n",
       "        2.43825115e+00, 3.04781367e+00, 3.65737619e+00, 4.26693871e+00,\n",
       "        4.87650123e+00, 5.48606375e+00, 6.09562627e+00, 6.70518879e+00,\n",
       "        7.31475131e+00, 7.92431383e+00, 8.53387635e+00, 9.14343887e+00,\n",
       "        9.75300139e+00, 1.03625639e+01, 1.09721264e+01, 1.15816890e+01,\n",
       "        1.21912515e+01, 1.28008140e+01, 1.34103765e+01, 1.40199390e+01,\n",
       "        1.46295016e+01, 1.52390641e+01, 1.58486266e+01, 1.64581891e+01,\n",
       "        1.70677516e+01, 1.76773142e+01, 1.82868767e+01]),\n",
       " <BarContainer object of 30 artists>)"
      ]
     },
     "execution_count": 162,
     "metadata": {},
     "output_type": "execute_result"
    },
    {
     "data": {
      "image/png": "[encoded data removed]",
      "text/plain": [
       "<Figure size 640x480 with 1 Axes>"
      ]
     },
     "metadata": {},
     "output_type": "display_data"
    }
   ],
   "source": [
    "plt.hist(S.get_shock_magnitude(lambda_m=S.lambda_m, size=100000), bins=30)"
   ]
  },
  {
   "cell_type": "code",
   "execution_count": 164,
   "metadata": {},
   "outputs": [
    {
     "data": {
      "text/plain": [
       "0.0025000000000000005"
      ]
     },
     "execution_count": 164,
     "metadata": {},
     "output_type": "execute_result"
    }
   ],
   "source": [
    "np.exp(-10*S.lambda_m)"
   ]
  },
  {
   "cell_type": "code",
   "execution_count": 95,
   "metadata": {},
   "outputs": [
    {
     "name": "stdout",
     "output_type": "stream",
     "text": [
      "0.044628710262841945\n"
     ]
    },
    {
     "data": {
      "text/plain": [
       "8010"
      ]
     },
     "execution_count": 95,
     "metadata": {},
     "output_type": "execute_result"
    }
   ],
   "source": [
    "np.sum(S.get_shock_magnitude(lambda_m=S.lambda_m, size=10000) > 5) / "
   ]
  },
  {
   "cell_type": "code",
   "execution_count": 166,
   "metadata": {},
   "outputs": [
    {
     "data": {
      "text/plain": [
       "0.5991464547107982"
      ]
     },
     "execution_count": 166,
     "metadata": {},
     "output_type": "execute_result"
    }
   ],
   "source": [
    "x"
   ]
  },
  {
   "cell_type": "code",
   "execution_count": 26,
   "metadata": {},
   "outputs": [
    {
     "name": "stdout",
     "output_type": "stream",
     "text": [
      "[[[0.9 0.1 0.  0. ]\n",
      "  [0.  0.9 0.1 0. ]\n",
      "  [0.  0.  0.9 0.1]\n",
      "  [0.  0.  0.  1. ]]\n",
      "\n",
      " [[0.9 0.1 0.  0. ]\n",
      "  [0.  0.9 0.1 0. ]\n",
      "  [0.  0.  0.9 0.1]\n",
      "  [0.  0.  0.  1. ]]\n",
      "\n",
      " [[1.  0.  0.  0. ]\n",
      "  [0.9 0.1 0.  0. ]\n",
      "  [0.8 0.2 0.  0. ]\n",
      "  [0.7 0.2 0.1 0. ]]\n",
      "\n",
      " [[1.  0.  0.  0. ]\n",
      "  [1.  0.  0.  0. ]\n",
      "  [1.  0.  0.  0. ]\n",
      "  [1.  0.  0.  0. ]]]\n",
      "[[[0.9 0.1 0.  0. ]\n",
      "  [0.  0.9 0.1 0. ]\n",
      "  [0.  0.  0.9 0.1]\n",
      "  [0.  0.  0.  1. ]]\n",
      "\n",
      " [[0.9 0.1 0.  0. ]\n",
      "  [0.  0.9 0.1 0. ]\n",
      "  [0.  0.  0.9 0.1]\n",
      "  [0.  0.  0.  1. ]]\n",
      "\n",
      " [[1.  0.  0.  0. ]\n",
      "  [0.9 0.1 0.  0. ]\n",
      "  [0.8 0.2 0.  0. ]\n",
      "  [0.7 0.2 0.1 0. ]]\n",
      "\n",
      " [[1.  0.  0.  0. ]\n",
      "  [1.  0.  0.  0. ]\n",
      "  [1.  0.  0.  0. ]\n",
      "  [1.  0.  0.  0. ]]]\n",
      "[[[0.9 0.1 0.  0. ]\n",
      "  [0.  0.9 0.1 0. ]\n",
      "  [0.  0.  0.9 0.1]\n",
      "  [0.  0.  0.  1. ]]\n",
      "\n",
      " [[0.9 0.1 0.  0. ]\n",
      "  [0.  0.9 0.1 0. ]\n",
      "  [0.  0.  0.9 0.1]\n",
      "  [0.  0.  0.  1. ]]\n",
      "\n",
      " [[1.  0.  0.  0. ]\n",
      "  [0.9 0.1 0.  0. ]\n",
      "  [0.8 0.2 0.  0. ]\n",
      "  [0.7 0.2 0.1 0. ]]\n",
      "\n",
      " [[1.  0.  0.  0. ]\n",
      "  [1.  0.  0.  0. ]\n",
      "  [1.  0.  0.  0. ]\n",
      "  [1.  0.  0.  0. ]]]\n",
      "[[[0.9 0.1 0.  0. ]\n",
      "  [0.  0.9 0.1 0. ]\n",
      "  [0.  0.  0.9 0.1]\n",
      "  [0.  0.  0.  1. ]]\n",
      "\n",
      " [[0.9 0.1 0.  0. ]\n",
      "  [0.  0.9 0.1 0. ]\n",
      "  [0.  0.  0.9 0.1]\n",
      "  [0.  0.  0.  1. ]]\n",
      "\n",
      " [[1.  0.  0.  0. ]\n",
      "  [0.9 0.1 0.  0. ]\n",
      "  [0.8 0.2 0.  0. ]\n",
      "  [0.7 0.2 0.1 0. ]]\n",
      "\n",
      " [[1.  0.  0.  0. ]\n",
      "  [1.  0.  0.  0. ]\n",
      "  [1.  0.  0.  0. ]\n",
      "  [1.  0.  0.  0. ]]]\n",
      "[[[0.9 0.1 0.  0. ]\n",
      "  [0.  0.9 0.1 0. ]\n",
      "  [0.  0.  0.9 0.1]\n",
      "  [0.  0.  0.  1. ]]\n",
      "\n",
      " [[0.9 0.1 0.  0. ]\n",
      "  [0.  0.9 0.1 0. ]\n",
      "  [0.  0.  0.9 0.1]\n",
      "  [0.  0.  0.  1. ]]\n",
      "\n",
      " [[1.  0.  0.  0. ]\n",
      "  [0.9 0.1 0.  0. ]\n",
      "  [0.8 0.2 0.  0. ]\n",
      "  [0.7 0.2 0.1 0. ]]\n",
      "\n",
      " [[1.  0.  0.  0. ]\n",
      "  [1.  0.  0.  0. ]\n",
      "  [1.  0.  0.  0. ]\n",
      "  [1.  0.  0.  0. ]]]\n",
      "[[[0.9 0.1 0.  0. ]\n",
      "  [0.  0.9 0.1 0. ]\n",
      "  [0.  0.  0.9 0.1]\n",
      "  [0.  0.  0.  1. ]]\n",
      "\n",
      " [[0.9 0.1 0.  0. ]\n",
      "  [0.  0.9 0.1 0. ]\n",
      "  [0.  0.  0.9 0.1]\n",
      "  [0.  0.  0.  1. ]]\n",
      "\n",
      " [[1.  0.  0.  0. ]\n",
      "  [0.9 0.1 0.  0. ]\n",
      "  [0.8 0.2 0.  0. ]\n",
      "  [0.7 0.2 0.1 0. ]]\n",
      "\n",
      " [[1.  0.  0.  0. ]\n",
      "  [1.  0.  0.  0. ]\n",
      "  [1.  0.  0.  0. ]\n",
      "  [1.  0.  0.  0. ]]]\n",
      "[[[0.9 0.1 0.  0. ]\n",
      "  [0.  0.9 0.1 0. ]\n",
      "  [0.  0.  0.9 0.1]\n",
      "  [0.  0.  0.  1. ]]\n",
      "\n",
      " [[0.9 0.1 0.  0. ]\n",
      "  [0.  0.9 0.1 0. ]\n",
      "  [0.  0.  0.9 0.1]\n",
      "  [0.  0.  0.  1. ]]\n",
      "\n",
      " [[1.  0.  0.  0. ]\n",
      "  [0.9 0.1 0.  0. ]\n",
      "  [0.8 0.2 0.  0. ]\n",
      "  [0.7 0.2 0.1 0. ]]\n",
      "\n",
      " [[1.  0.  0.  0. ]\n",
      "  [1.  0.  0.  0. ]\n",
      "  [1.  0.  0.  0. ]\n",
      "  [1.  0.  0.  0. ]]]\n",
      "[[[0.9 0.1 0.  0. ]\n",
      "  [0.  0.9 0.1 0. ]\n",
      "  [0.  0.  0.9 0.1]\n",
      "  [0.  0.  0.  1. ]]\n",
      "\n",
      " [[0.9 0.1 0.  0. ]\n",
      "  [0.  0.9 0.1 0. ]\n",
      "  [0.  0.  0.9 0.1]\n",
      "  [0.  0.  0.  1. ]]\n",
      "\n",
      " [[1.  0.  0.  0. ]\n",
      "  [0.9 0.1 0.  0. ]\n",
      "  [0.8 0.2 0.  0. ]\n",
      "  [0.7 0.2 0.1 0. ]]\n",
      "\n",
      " [[1.  0.  0.  0. ]\n",
      "  [1.  0.  0.  0. ]\n",
      "  [1.  0.  0.  0. ]\n",
      "  [1.  0.  0.  0. ]]]\n"
     ]
    }
   ],
   "source": [
    "for e in E.graph.es['road_segments']:\n",
    "    for s in e.segments:\n",
    "        print(s.deterioration_table)"
   ]
  },
  {
   "cell_type": "code",
   "execution_count": 19,
   "metadata": {},
   "outputs": [
    {
     "name": "stdout",
     "output_type": "stream",
     "text": [
      "[0 1 2 3]\n",
      "[1 2 3 4]\n"
     ]
    },
    {
     "data": {
      "text/plain": [
       "array([[3.52236703e-05, 9.99964776e-01, 0.00000000e+00, 0.00000000e+00],\n",
       "       [0.00000000e+00, 3.52236703e-05, 9.99964776e-01, 0.00000000e+00],\n",
       "       [0.00000000e+00, 0.00000000e+00, 3.52236703e-05, 9.99964776e-01],\n",
       "       [0.00000000e+00, 0.00000000e+00, 0.00000000e+00, 1.00000000e+00]])"
      ]
     },
     "execution_count": 19,
     "metadata": {},
     "output_type": "execute_result"
    }
   ],
   "source": [
    "shock.add_equal_shock_to_deterioration_table(magn=500, det_table=dt[0,:])"
   ]
  }
 ],
 "metadata": {
  "kernelspec": {
   "display_name": "imprl",
   "language": "python",
   "name": "python3"
  },
  "language_info": {
   "codemirror_mode": {
    "name": "ipython",
    "version": 3
   },
   "file_extension": ".py",
   "mimetype": "text/x-python",
   "name": "python",
   "nbconvert_exporter": "python",
   "pygments_lexer": "ipython3",
   "version": "3.10.0"
  }
 },
 "nbformat": 4,
 "nbformat_minor": 2
}
