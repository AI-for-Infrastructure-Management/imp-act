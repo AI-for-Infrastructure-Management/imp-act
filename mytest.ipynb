{
 "cells": [
  {
   "cell_type": "code",
   "execution_count": 214,
   "metadata": {},
   "outputs": [
    {
     "name": "stdout",
     "output_type": "stream",
     "text": [
      "The autoreload extension is already loaded. To reload it, use:\n",
      "  %reload_ext autoreload\n"
     ]
    }
   ],
   "source": [
    "%load_ext autoreload\n",
    "%autoreload 2\n",
    "\n",
    "import igraph as ig\n",
    "from igraph import Graph\n",
    "from test_environment import *\n",
    "from environment_presets import *\n",
    "import matplotlib.pyplot as plt\n",
    "%matplotlib inline\n",
    "import numpy as np\n",
    "import networkx as nx\n",
    "import scipy as sp\n",
    "\n",
    "from environment import RoadEnvironment\n",
    "from shock import Shock"
   ]
  },
  {
   "cell_type": "code",
   "execution_count": 210,
   "metadata": {},
   "outputs": [],
   "source": [
    "E = RoadEnvironment(**small_environment_dict)"
   ]
  },
  {
   "cell_type": "code",
   "execution_count": 77,
   "metadata": {},
   "outputs": [],
   "source": [
    "dt = E.graph.es['road_segments'][0].segments[0].deterioration_table"
   ]
  },
  {
   "cell_type": "code",
   "execution_count": 202,
   "metadata": {},
   "outputs": [
    {
     "name": "stdout",
     "output_type": "stream",
     "text": [
      "[13 17] [5.27119251 6.07218669]\n"
     ]
    }
   ],
   "source": [
    "S = Shock(lambda_t=1/5, lambda_m=np.log(20)/5, max_timesteps=50)\n",
    "print(S.times, S.magnits)"
   ]
  },
  {
   "cell_type": "code",
   "execution_count": 237,
   "metadata": {},
   "outputs": [
    {
     "name": "stdout",
     "output_type": "stream",
     "text": [
      "In shock [33] 33 [10.9398719]\n",
      "0 0 0\n",
      "10.93987189859567\n",
      "[[1, 1], [1, 1], [1, 1], [1, 1]]\n",
      "1\n",
      "[[[0.9 0.1 0.  0. ]\n",
      "  [0.  0.9 0.1 0. ]\n",
      "  [0.  0.  0.9 0.1]\n",
      "  [0.  0.  0.  1. ]]\n",
      "\n",
      " [[0.9 0.1 0.  0. ]\n",
      "  [0.  0.9 0.1 0. ]\n",
      "  [0.  0.  0.9 0.1]\n",
      "  [0.  0.  0.  1. ]]\n",
      "\n",
      " [[1.  0.  0.  0. ]\n",
      "  [0.9 0.1 0.  0. ]\n",
      "  [0.8 0.2 0.  0. ]\n",
      "  [0.7 0.2 0.1 0. ]]\n",
      "\n",
      " [[1.  0.  0.  0. ]\n",
      "  [1.  0.  0.  0. ]\n",
      "  [1.  0.  0.  0. ]\n",
      "  [1.  0.  0.  0. ]]]\n",
      "[[0.9 0.1 0.  0. ]\n",
      " [0.  0.9 0.1 0. ]\n",
      " [0.  0.  0.9 0.1]\n",
      " [0.  0.  0.  1. ]]\n",
      "0 1 0\n",
      "10.93987189859567\n",
      "[[1, 1], [1, 1], [1, 1], [1, 1]]\n",
      "1\n",
      "[[[0.9 0.1 0.  0. ]\n",
      "  [0.  0.9 0.1 0. ]\n",
      "  [0.  0.  0.9 0.1]\n",
      "  [0.  0.  0.  1. ]]\n",
      "\n",
      " [[0.9 0.1 0.  0. ]\n",
      "  [0.  0.9 0.1 0. ]\n",
      "  [0.  0.  0.9 0.1]\n",
      "  [0.  0.  0.  1. ]]\n",
      "\n",
      " [[1.  0.  0.  0. ]\n",
      "  [0.9 0.1 0.  0. ]\n",
      "  [0.8 0.2 0.  0. ]\n",
      "  [0.7 0.2 0.1 0. ]]\n",
      "\n",
      " [[1.  0.  0.  0. ]\n",
      "  [1.  0.  0.  0. ]\n",
      "  [1.  0.  0.  0. ]\n",
      "  [1.  0.  0.  0. ]]]\n",
      "[[0.9 0.1 0.  0. ]\n",
      " [0.  0.9 0.1 0. ]\n",
      " [0.  0.  0.9 0.1]\n",
      " [0.  0.  0.  1. ]]\n",
      "1 0 0\n",
      "10.93987189859567\n",
      "[[1, 1], [1, 1], [1, 1], [1, 1]]\n",
      "1\n",
      "[[[0.9 0.1 0.  0. ]\n",
      "  [0.  0.9 0.1 0. ]\n",
      "  [0.  0.  0.9 0.1]\n",
      "  [0.  0.  0.  1. ]]\n",
      "\n",
      " [[0.9 0.1 0.  0. ]\n",
      "  [0.  0.9 0.1 0. ]\n",
      "  [0.  0.  0.9 0.1]\n",
      "  [0.  0.  0.  1. ]]\n",
      "\n",
      " [[1.  0.  0.  0. ]\n",
      "  [0.9 0.1 0.  0. ]\n",
      "  [0.8 0.2 0.  0. ]\n",
      "  [0.7 0.2 0.1 0. ]]\n",
      "\n",
      " [[1.  0.  0.  0. ]\n",
      "  [1.  0.  0.  0. ]\n",
      "  [1.  0.  0.  0. ]\n",
      "  [1.  0.  0.  0. ]]]\n",
      "[[0.9 0.1 0.  0. ]\n",
      " [0.  0.9 0.1 0. ]\n",
      " [0.  0.  0.9 0.1]\n",
      " [0.  0.  0.  1. ]]\n",
      "1 1 0\n",
      "10.93987189859567\n",
      "[[1, 1], [1, 1], [1, 1], [1, 1]]\n",
      "1\n",
      "[[[0.9 0.1 0.  0. ]\n",
      "  [0.  0.9 0.1 0. ]\n",
      "  [0.  0.  0.9 0.1]\n",
      "  [0.  0.  0.  1. ]]\n",
      "\n",
      " [[0.9 0.1 0.  0. ]\n",
      "  [0.  0.9 0.1 0. ]\n",
      "  [0.  0.  0.9 0.1]\n",
      "  [0.  0.  0.  1. ]]\n",
      "\n",
      " [[1.  0.  0.  0. ]\n",
      "  [0.9 0.1 0.  0. ]\n",
      "  [0.8 0.2 0.  0. ]\n",
      "  [0.7 0.2 0.1 0. ]]\n",
      "\n",
      " [[1.  0.  0.  0. ]\n",
      "  [1.  0.  0.  0. ]\n",
      "  [1.  0.  0.  0. ]\n",
      "  [1.  0.  0.  0. ]]]\n",
      "[[0.9 0.1 0.  0. ]\n",
      " [0.  0.9 0.1 0. ]\n",
      " [0.  0.  0.9 0.1]\n",
      " [0.  0.  0.  1. ]]\n",
      "2 0 0\n",
      "10.93987189859567\n",
      "[[1, 1], [1, 1], [1, 1], [1, 1]]\n",
      "1\n",
      "[[[0.9 0.1 0.  0. ]\n",
      "  [0.  0.9 0.1 0. ]\n",
      "  [0.  0.  0.9 0.1]\n",
      "  [0.  0.  0.  1. ]]\n",
      "\n",
      " [[0.9 0.1 0.  0. ]\n",
      "  [0.  0.9 0.1 0. ]\n",
      "  [0.  0.  0.9 0.1]\n",
      "  [0.  0.  0.  1. ]]\n",
      "\n",
      " [[1.  0.  0.  0. ]\n",
      "  [0.9 0.1 0.  0. ]\n",
      "  [0.8 0.2 0.  0. ]\n",
      "  [0.7 0.2 0.1 0. ]]\n",
      "\n",
      " [[1.  0.  0.  0. ]\n",
      "  [1.  0.  0.  0. ]\n",
      "  [1.  0.  0.  0. ]\n",
      "  [1.  0.  0.  0. ]]]\n",
      "[[0.9 0.1 0.  0. ]\n",
      " [0.  0.9 0.1 0. ]\n",
      " [0.  0.  0.9 0.1]\n",
      " [0.  0.  0.  1. ]]\n",
      "2 1 0\n",
      "10.93987189859567\n",
      "[[1, 1], [1, 1], [1, 1], [1, 1]]\n",
      "1\n",
      "[[[0.9 0.1 0.  0. ]\n",
      "  [0.  0.9 0.1 0. ]\n",
      "  [0.  0.  0.9 0.1]\n",
      "  [0.  0.  0.  1. ]]\n",
      "\n",
      " [[0.9 0.1 0.  0. ]\n",
      "  [0.  0.9 0.1 0. ]\n",
      "  [0.  0.  0.9 0.1]\n",
      "  [0.  0.  0.  1. ]]\n",
      "\n",
      " [[1.  0.  0.  0. ]\n",
      "  [0.9 0.1 0.  0. ]\n",
      "  [0.8 0.2 0.  0. ]\n",
      "  [0.7 0.2 0.1 0. ]]\n",
      "\n",
      " [[1.  0.  0.  0. ]\n",
      "  [1.  0.  0.  0. ]\n",
      "  [1.  0.  0.  0. ]\n",
      "  [1.  0.  0.  0. ]]]\n",
      "[[0.9 0.1 0.  0. ]\n",
      " [0.  0.9 0.1 0. ]\n",
      " [0.  0.  0.9 0.1]\n",
      " [0.  0.  0.  1. ]]\n",
      "3 0 0\n",
      "10.93987189859567\n",
      "[[1, 1], [1, 1], [1, 1], [1, 1]]\n",
      "1\n",
      "[[[0.9 0.1 0.  0. ]\n",
      "  [0.  0.9 0.1 0. ]\n",
      "  [0.  0.  0.9 0.1]\n",
      "  [0.  0.  0.  1. ]]\n",
      "\n",
      " [[0.9 0.1 0.  0. ]\n",
      "  [0.  0.9 0.1 0. ]\n",
      "  [0.  0.  0.9 0.1]\n",
      "  [0.  0.  0.  1. ]]\n",
      "\n",
      " [[1.  0.  0.  0. ]\n",
      "  [0.9 0.1 0.  0. ]\n",
      "  [0.8 0.2 0.  0. ]\n",
      "  [0.7 0.2 0.1 0. ]]\n",
      "\n",
      " [[1.  0.  0.  0. ]\n",
      "  [1.  0.  0.  0. ]\n",
      "  [1.  0.  0.  0. ]\n",
      "  [1.  0.  0.  0. ]]]\n",
      "[[0.9 0.1 0.  0. ]\n",
      " [0.  0.9 0.1 0. ]\n",
      " [0.  0.  0.9 0.1]\n",
      " [0.  0.  0.  1. ]]\n",
      "3 1 0\n",
      "10.93987189859567\n",
      "[[1, 1], [1, 1], [1, 1], [1, 1]]\n",
      "1\n",
      "[[[0.9 0.1 0.  0. ]\n",
      "  [0.  0.9 0.1 0. ]\n",
      "  [0.  0.  0.9 0.1]\n",
      "  [0.  0.  0.  1. ]]\n",
      "\n",
      " [[0.9 0.1 0.  0. ]\n",
      "  [0.  0.9 0.1 0. ]\n",
      "  [0.  0.  0.9 0.1]\n",
      "  [0.  0.  0.  1. ]]\n",
      "\n",
      " [[1.  0.  0.  0. ]\n",
      "  [0.9 0.1 0.  0. ]\n",
      "  [0.8 0.2 0.  0. ]\n",
      "  [0.7 0.2 0.1 0. ]]\n",
      "\n",
      " [[1.  0.  0.  0. ]\n",
      "  [1.  0.  0.  0. ]\n",
      "  [1.  0.  0.  0. ]\n",
      "  [1.  0.  0.  0. ]]]\n",
      "[[0.9 0.1 0.  0. ]\n",
      " [0.  0.9 0.1 0. ]\n",
      " [0.  0.  0.9 0.1]\n",
      " [0.  0.  0.  1. ]]\n",
      "[<environment.RoadEdge object at 0x000001EF3E5AE800>, <environment.RoadEdge object at 0x000001EF3E5AE980>, <environment.RoadEdge object at 0x000001EF3E5AEAD0>, <environment.RoadEdge object at 0x000001EF3E5AEE60>]\n",
      "[[[9.00000000e-01 1.00000000e-01 0.00000000e+00 0.00000000e+00]\n",
      "  [0.00000000e+00 9.00000000e-01 1.00000000e-01 0.00000000e+00]\n",
      "  [0.00000000e+00 0.00000000e+00 9.00000000e-01 1.00000000e-01]\n",
      "  [0.00000000e+00 0.00000000e+00 0.00000000e+00 1.00000000e+00]]\n",
      "\n",
      " [[1.03363123e-05 9.99989664e-01 0.00000000e+00 0.00000000e+00]\n",
      "  [0.00000000e+00 1.03363123e-05 9.99989664e-01 0.00000000e+00]\n",
      "  [0.00000000e+00 0.00000000e+00 1.03363123e-05 9.99989664e-01]\n",
      "  [0.00000000e+00 0.00000000e+00 0.00000000e+00 1.00000000e+00]]\n",
      "\n",
      " [[1.00000000e+00 0.00000000e+00 0.00000000e+00 0.00000000e+00]\n",
      "  [9.00000000e-01 1.00000000e-01 0.00000000e+00 0.00000000e+00]\n",
      "  [8.00000000e-01 2.00000000e-01 0.00000000e+00 0.00000000e+00]\n",
      "  [7.00000000e-01 2.00000000e-01 1.00000000e-01 0.00000000e+00]]\n",
      "\n",
      " [[1.00000000e+00 0.00000000e+00 0.00000000e+00 0.00000000e+00]\n",
      "  [1.00000000e+00 0.00000000e+00 0.00000000e+00 0.00000000e+00]\n",
      "  [1.00000000e+00 0.00000000e+00 0.00000000e+00 0.00000000e+00]\n",
      "  [1.00000000e+00 0.00000000e+00 0.00000000e+00 0.00000000e+00]]]\n",
      "[[[0.9 0.1 0.  0. ]\n",
      "  [0.  0.9 0.1 0. ]\n",
      "  [0.  0.  0.9 0.1]\n",
      "  [0.  0.  0.  1. ]]\n",
      "\n",
      " [[0.9 0.1 0.  0. ]\n",
      "  [0.  0.9 0.1 0. ]\n",
      "  [0.  0.  0.9 0.1]\n",
      "  [0.  0.  0.  1. ]]\n",
      "\n",
      " [[1.  0.  0.  0. ]\n",
      "  [0.9 0.1 0.  0. ]\n",
      "  [0.8 0.2 0.  0. ]\n",
      "  [0.7 0.2 0.1 0. ]]\n",
      "\n",
      " [[1.  0.  0.  0. ]\n",
      "  [1.  0.  0.  0. ]\n",
      "  [1.  0.  0.  0. ]\n",
      "  [1.  0.  0.  0. ]]]\n"
     ]
    }
   ],
   "source": [
    "E = RoadEnvironment(**small_environment_dict)\n",
    "actions = [[1,1] for _ in range(len(E.edge_segments_numbers))]\n",
    "timestep = 0\n",
    "done = False\n",
    "\n",
    "while not done:\n",
    "    timestep += 1\n",
    "    obs, cost, done, info = E.step(actions)"
   ]
  },
  {
   "cell_type": "code",
   "execution_count": null,
   "metadata": {},
   "outputs": [],
   "source": []
  },
  {
   "cell_type": "code",
   "execution_count": null,
   "metadata": {},
   "outputs": [],
   "source": []
  },
  {
   "cell_type": "code",
   "execution_count": null,
   "metadata": {},
   "outputs": [],
   "source": []
  },
  {
   "cell_type": "code",
   "execution_count": null,
   "metadata": {},
   "outputs": [],
   "source": []
  },
  {
   "cell_type": "code",
   "execution_count": null,
   "metadata": {},
   "outputs": [],
   "source": []
  },
  {
   "cell_type": "code",
   "execution_count": 68,
   "metadata": {},
   "outputs": [
    {
     "data": {
      "text/plain": [
       "[<matplotlib.lines.Line2D at 0x1ef38fbaf20>]"
      ]
     },
     "execution_count": 68,
     "metadata": {},
     "output_type": "execute_result"
    },
    {
     "data": {
      "image/png": "[encoded data removed]",
      "text/plain": [
       "<Figure size 640x480 with 1 Axes>"
      ]
     },
     "metadata": {},
     "output_type": "display_data"
    }
   ],
   "source": [
    "t = np.linspace(0,50,1000)\n",
    "plt.plot(t, sp.stats.expon.pdf(t, loc=0, scale=10))"
   ]
  },
  {
   "cell_type": "code",
   "execution_count": 103,
   "metadata": {},
   "outputs": [
    {
     "data": {
      "text/plain": [
       "(array([2.504e+03, 1.840e+03, 1.421e+03, 1.065e+03, 8.130e+02, 6.120e+02,\n",
       "        4.500e+02, 3.070e+02, 2.390e+02, 1.930e+02, 1.410e+02, 9.000e+01,\n",
       "        7.000e+01, 6.000e+01, 5.300e+01, 4.000e+01, 2.500e+01, 1.600e+01,\n",
       "        1.500e+01, 1.500e+01, 6.000e+00, 7.000e+00, 7.000e+00, 4.000e+00,\n",
       "        0.000e+00, 2.000e+00, 3.000e+00, 0.000e+00, 0.000e+00, 2.000e+00]),\n",
       " array([6.51744918e-04, 1.44187784e+00, 2.88310393e+00, 4.32433002e+00,\n",
       "        5.76555611e+00, 7.20678220e+00, 8.64800829e+00, 1.00892344e+01,\n",
       "        1.15304605e+01, 1.29716866e+01, 1.44129126e+01, 1.58541387e+01,\n",
       "        1.72953648e+01, 1.87365909e+01, 2.01778170e+01, 2.16190431e+01,\n",
       "        2.30602692e+01, 2.45014953e+01, 2.59427214e+01, 2.73839475e+01,\n",
       "        2.88251736e+01, 3.02663996e+01, 3.17076257e+01, 3.31488518e+01,\n",
       "        3.45900779e+01, 3.60313040e+01, 3.74725301e+01, 3.89137562e+01,\n",
       "        4.03549823e+01, 4.17962084e+01, 4.32374345e+01]),\n",
       " <BarContainer object of 30 artists>)"
      ]
     },
     "execution_count": 103,
     "metadata": {},
     "output_type": "execute_result"
    },
    {
     "data": {
      "image/png": "[encoded data removed]",
      "text/plain": [
       "<Figure size 640x480 with 1 Axes>"
      ]
     },
     "metadata": {},
     "output_type": "display_data"
    }
   ],
   "source": [
    "plt.hist(S.get_earthquake_occurrence_time(lambda_t=S.lambda_t, size=10000), bins=30)"
   ]
  },
  {
   "cell_type": "code",
   "execution_count": 71,
   "metadata": {},
   "outputs": [
    {
     "data": {
      "text/plain": [
       "0.044628710262841945"
      ]
     },
     "execution_count": 71,
     "metadata": {},
     "output_type": "execute_result"
    }
   ],
   "source": [
    "S.lambda_m"
   ]
  },
  {
   "cell_type": "code",
   "execution_count": 37,
   "metadata": {},
   "outputs": [
    {
     "data": {
      "text/plain": [
       "array([[5]])"
      ]
     },
     "execution_count": 37,
     "metadata": {},
     "output_type": "execute_result"
    }
   ],
   "source": [
    "S.times"
   ]
  },
  {
   "cell_type": "code",
   "execution_count": 72,
   "metadata": {},
   "outputs": [
    {
     "data": {
      "text/plain": [
       "0.10000000000000002"
      ]
     },
     "execution_count": 72,
     "metadata": {},
     "output_type": "execute_result"
    }
   ],
   "source": [
    "1/(50*(1-np.exp(-5*S.lambda_m)))"
   ]
  },
  {
   "cell_type": "code",
   "execution_count": 97,
   "metadata": {},
   "outputs": [
    {
     "data": {
      "text/plain": [
       "[<matplotlib.lines.Line2D at 0x1ef3c41a5c0>]"
      ]
     },
     "execution_count": 97,
     "metadata": {},
     "output_type": "execute_result"
    },
    {
     "data": {
      "image/png": "[encoded data removed]",
      "text/plain": [
       "<Figure size 640x480 with 1 Axes>"
      ]
     },
     "metadata": {},
     "output_type": "display_data"
    }
   ],
   "source": [
    "l = np.linspace(0.0001, 1, 1000)\n",
    "plt.plot(l, np.log(50*l)/5)"
   ]
  },
  {
   "cell_type": "code",
   "execution_count": 176,
   "metadata": {},
   "outputs": [
    {
     "data": {
      "text/plain": [
       "[<matplotlib.lines.Line2D at 0x1ef3daad540>]"
      ]
     },
     "execution_count": 176,
     "metadata": {},
     "output_type": "execute_result"
    },
    {
     "data": {
      "image/png": "[encoded data removed]",
      "text/plain": [
       "<Figure size 640x480 with 1 Axes>"
      ]
     },
     "metadata": {},
     "output_type": "display_data"
    }
   ],
   "source": [
    "g = np.linspace(0,10,1000)\n",
    "plt.plot(g, sp.stats.expon.pdf(g, loc=0, scale=1/S.lambda_m))\n",
    "plt.plot(g, np.log(10)*y*10**(-y*g))"
   ]
  },
  {
   "cell_type": "code",
   "execution_count": null,
   "metadata": {},
   "outputs": [],
   "source": [
    "\n",
    "for k in [1, 5, 10, 50]:\n",
    "    plt.plot(g, np.log(k)*)"
   ]
  },
  {
   "cell_type": "code",
   "execution_count": 167,
   "metadata": {},
   "outputs": [
    {
     "data": {
      "text/plain": [
       "0.5991464547107982"
      ]
     },
     "execution_count": 167,
     "metadata": {},
     "output_type": "execute_result"
    }
   ],
   "source": [
    "S.lambda_m"
   ]
  },
  {
   "cell_type": "code",
   "execution_count": 171,
   "metadata": {},
   "outputs": [],
   "source": [
    "y = np.log10(20)/5"
   ]
  },
  {
   "cell_type": "code",
   "execution_count": 162,
   "metadata": {},
   "outputs": [
    {
     "name": "stdout",
     "output_type": "stream",
     "text": [
      "0.5991464547107982\n"
     ]
    },
    {
     "data": {
      "text/plain": [
       "(array([3.0563e+04, 2.1347e+04, 1.4543e+04, 1.0267e+04, 7.1350e+03,\n",
       "        4.9300e+03, 3.4630e+03, 2.3520e+03, 1.5960e+03, 1.1540e+03,\n",
       "        8.1300e+02, 5.4300e+02, 3.9200e+02, 2.6300e+02, 1.9800e+02,\n",
       "        1.2500e+02, 1.0500e+02, 6.3000e+01, 4.0000e+01, 3.4000e+01,\n",
       "        1.6000e+01, 1.8000e+01, 1.2000e+01, 4.0000e+00, 9.0000e+00,\n",
       "        6.0000e+00, 3.0000e+00, 2.0000e+00, 2.0000e+00, 2.0000e+00]),\n",
       " array([1.06331661e-06, 6.09563584e-01, 1.21912610e+00, 1.82868863e+00,\n",
       "        2.43825115e+00, 3.04781367e+00, 3.65737619e+00, 4.26693871e+00,\n",
       "        4.87650123e+00, 5.48606375e+00, 6.09562627e+00, 6.70518879e+00,\n",
       "        7.31475131e+00, 7.92431383e+00, 8.53387635e+00, 9.14343887e+00,\n",
       "        9.75300139e+00, 1.03625639e+01, 1.09721264e+01, 1.15816890e+01,\n",
       "        1.21912515e+01, 1.28008140e+01, 1.34103765e+01, 1.40199390e+01,\n",
       "        1.46295016e+01, 1.52390641e+01, 1.58486266e+01, 1.64581891e+01,\n",
       "        1.70677516e+01, 1.76773142e+01, 1.82868767e+01]),\n",
       " <BarContainer object of 30 artists>)"
      ]
     },
     "execution_count": 162,
     "metadata": {},
     "output_type": "execute_result"
    },
    {
     "data": {
      "image/png": "[encoded data removed]",
      "text/plain": [
       "<Figure size 640x480 with 1 Axes>"
      ]
     },
     "metadata": {},
     "output_type": "display_data"
    }
   ],
   "source": [
    "plt.hist(S.get_shock_magnitude(lambda_m=S.lambda_m, size=100000), bins=30)"
   ]
  },
  {
   "cell_type": "code",
   "execution_count": 164,
   "metadata": {},
   "outputs": [
    {
     "data": {
      "text/plain": [
       "0.0025000000000000005"
      ]
     },
     "execution_count": 164,
     "metadata": {},
     "output_type": "execute_result"
    }
   ],
   "source": [
    "np.exp(-10*S.lambda_m)"
   ]
  },
  {
   "cell_type": "code",
   "execution_count": 95,
   "metadata": {},
   "outputs": [
    {
     "name": "stdout",
     "output_type": "stream",
     "text": [
      "0.044628710262841945\n"
     ]
    },
    {
     "data": {
      "text/plain": [
       "8010"
      ]
     },
     "execution_count": 95,
     "metadata": {},
     "output_type": "execute_result"
    }
   ],
   "source": [
    "np.sum(S.get_shock_magnitude(lambda_m=S.lambda_m, size=10000) > 5) / "
   ]
  },
  {
   "cell_type": "code",
   "execution_count": 166,
   "metadata": {},
   "outputs": [
    {
     "data": {
      "text/plain": [
       "0.5991464547107982"
      ]
     },
     "execution_count": 166,
     "metadata": {},
     "output_type": "execute_result"
    }
   ],
   "source": [
    "x"
   ]
  },
  {
   "cell_type": "code",
   "execution_count": 26,
   "metadata": {},
   "outputs": [
    {
     "name": "stdout",
     "output_type": "stream",
     "text": [
      "[[[0.9 0.1 0.  0. ]\n",
      "  [0.  0.9 0.1 0. ]\n",
      "  [0.  0.  0.9 0.1]\n",
      "  [0.  0.  0.  1. ]]\n",
      "\n",
      " [[0.9 0.1 0.  0. ]\n",
      "  [0.  0.9 0.1 0. ]\n",
      "  [0.  0.  0.9 0.1]\n",
      "  [0.  0.  0.  1. ]]\n",
      "\n",
      " [[1.  0.  0.  0. ]\n",
      "  [0.9 0.1 0.  0. ]\n",
      "  [0.8 0.2 0.  0. ]\n",
      "  [0.7 0.2 0.1 0. ]]\n",
      "\n",
      " [[1.  0.  0.  0. ]\n",
      "  [1.  0.  0.  0. ]\n",
      "  [1.  0.  0.  0. ]\n",
      "  [1.  0.  0.  0. ]]]\n",
      "[[[0.9 0.1 0.  0. ]\n",
      "  [0.  0.9 0.1 0. ]\n",
      "  [0.  0.  0.9 0.1]\n",
      "  [0.  0.  0.  1. ]]\n",
      "\n",
      " [[0.9 0.1 0.  0. ]\n",
      "  [0.  0.9 0.1 0. ]\n",
      "  [0.  0.  0.9 0.1]\n",
      "  [0.  0.  0.  1. ]]\n",
      "\n",
      " [[1.  0.  0.  0. ]\n",
      "  [0.9 0.1 0.  0. ]\n",
      "  [0.8 0.2 0.  0. ]\n",
      "  [0.7 0.2 0.1 0. ]]\n",
      "\n",
      " [[1.  0.  0.  0. ]\n",
      "  [1.  0.  0.  0. ]\n",
      "  [1.  0.  0.  0. ]\n",
      "  [1.  0.  0.  0. ]]]\n",
      "[[[0.9 0.1 0.  0. ]\n",
      "  [0.  0.9 0.1 0. ]\n",
      "  [0.  0.  0.9 0.1]\n",
      "  [0.  0.  0.  1. ]]\n",
      "\n",
      " [[0.9 0.1 0.  0. ]\n",
      "  [0.  0.9 0.1 0. ]\n",
      "  [0.  0.  0.9 0.1]\n",
      "  [0.  0.  0.  1. ]]\n",
      "\n",
      " [[1.  0.  0.  0. ]\n",
      "  [0.9 0.1 0.  0. ]\n",
      "  [0.8 0.2 0.  0. ]\n",
      "  [0.7 0.2 0.1 0. ]]\n",
      "\n",
      " [[1.  0.  0.  0. ]\n",
      "  [1.  0.  0.  0. ]\n",
      "  [1.  0.  0.  0. ]\n",
      "  [1.  0.  0.  0. ]]]\n",
      "[[[0.9 0.1 0.  0. ]\n",
      "  [0.  0.9 0.1 0. ]\n",
      "  [0.  0.  0.9 0.1]\n",
      "  [0.  0.  0.  1. ]]\n",
      "\n",
      " [[0.9 0.1 0.  0. ]\n",
      "  [0.  0.9 0.1 0. ]\n",
      "  [0.  0.  0.9 0.1]\n",
      "  [0.  0.  0.  1. ]]\n",
      "\n",
      " [[1.  0.  0.  0. ]\n",
      "  [0.9 0.1 0.  0. ]\n",
      "  [0.8 0.2 0.  0. ]\n",
      "  [0.7 0.2 0.1 0. ]]\n",
      "\n",
      " [[1.  0.  0.  0. ]\n",
      "  [1.  0.  0.  0. ]\n",
      "  [1.  0.  0.  0. ]\n",
      "  [1.  0.  0.  0. ]]]\n",
      "[[[0.9 0.1 0.  0. ]\n",
      "  [0.  0.9 0.1 0. ]\n",
      "  [0.  0.  0.9 0.1]\n",
      "  [0.  0.  0.  1. ]]\n",
      "\n",
      " [[0.9 0.1 0.  0. ]\n",
      "  [0.  0.9 0.1 0. ]\n",
      "  [0.  0.  0.9 0.1]\n",
      "  [0.  0.  0.  1. ]]\n",
      "\n",
      " [[1.  0.  0.  0. ]\n",
      "  [0.9 0.1 0.  0. ]\n",
      "  [0.8 0.2 0.  0. ]\n",
      "  [0.7 0.2 0.1 0. ]]\n",
      "\n",
      " [[1.  0.  0.  0. ]\n",
      "  [1.  0.  0.  0. ]\n",
      "  [1.  0.  0.  0. ]\n",
      "  [1.  0.  0.  0. ]]]\n",
      "[[[0.9 0.1 0.  0. ]\n",
      "  [0.  0.9 0.1 0. ]\n",
      "  [0.  0.  0.9 0.1]\n",
      "  [0.  0.  0.  1. ]]\n",
      "\n",
      " [[0.9 0.1 0.  0. ]\n",
      "  [0.  0.9 0.1 0. ]\n",
      "  [0.  0.  0.9 0.1]\n",
      "  [0.  0.  0.  1. ]]\n",
      "\n",
      " [[1.  0.  0.  0. ]\n",
      "  [0.9 0.1 0.  0. ]\n",
      "  [0.8 0.2 0.  0. ]\n",
      "  [0.7 0.2 0.1 0. ]]\n",
      "\n",
      " [[1.  0.  0.  0. ]\n",
      "  [1.  0.  0.  0. ]\n",
      "  [1.  0.  0.  0. ]\n",
      "  [1.  0.  0.  0. ]]]\n",
      "[[[0.9 0.1 0.  0. ]\n",
      "  [0.  0.9 0.1 0. ]\n",
      "  [0.  0.  0.9 0.1]\n",
      "  [0.  0.  0.  1. ]]\n",
      "\n",
      " [[0.9 0.1 0.  0. ]\n",
      "  [0.  0.9 0.1 0. ]\n",
      "  [0.  0.  0.9 0.1]\n",
      "  [0.  0.  0.  1. ]]\n",
      "\n",
      " [[1.  0.  0.  0. ]\n",
      "  [0.9 0.1 0.  0. ]\n",
      "  [0.8 0.2 0.  0. ]\n",
      "  [0.7 0.2 0.1 0. ]]\n",
      "\n",
      " [[1.  0.  0.  0. ]\n",
      "  [1.  0.  0.  0. ]\n",
      "  [1.  0.  0.  0. ]\n",
      "  [1.  0.  0.  0. ]]]\n",
      "[[[0.9 0.1 0.  0. ]\n",
      "  [0.  0.9 0.1 0. ]\n",
      "  [0.  0.  0.9 0.1]\n",
      "  [0.  0.  0.  1. ]]\n",
      "\n",
      " [[0.9 0.1 0.  0. ]\n",
      "  [0.  0.9 0.1 0. ]\n",
      "  [0.  0.  0.9 0.1]\n",
      "  [0.  0.  0.  1. ]]\n",
      "\n",
      " [[1.  0.  0.  0. ]\n",
      "  [0.9 0.1 0.  0. ]\n",
      "  [0.8 0.2 0.  0. ]\n",
      "  [0.7 0.2 0.1 0. ]]\n",
      "\n",
      " [[1.  0.  0.  0. ]\n",
      "  [1.  0.  0.  0. ]\n",
      "  [1.  0.  0.  0. ]\n",
      "  [1.  0.  0.  0. ]]]\n"
     ]
    }
   ],
   "source": [
    "for e in E.graph.es['road_segments']:\n",
    "    for s in e.segments:\n",
    "        print(s.deterioration_table)"
   ]
  },
  {
   "cell_type": "code",
   "execution_count": 19,
   "metadata": {},
   "outputs": [
    {
     "name": "stdout",
     "output_type": "stream",
     "text": [
      "[0 1 2 3]\n",
      "[1 2 3 4]\n"
     ]
    },
    {
     "data": {
      "text/plain": [
       "array([[3.52236703e-05, 9.99964776e-01, 0.00000000e+00, 0.00000000e+00],\n",
       "       [0.00000000e+00, 3.52236703e-05, 9.99964776e-01, 0.00000000e+00],\n",
       "       [0.00000000e+00, 0.00000000e+00, 3.52236703e-05, 9.99964776e-01],\n",
       "       [0.00000000e+00, 0.00000000e+00, 0.00000000e+00, 1.00000000e+00]])"
      ]
     },
     "execution_count": 19,
     "metadata": {},
     "output_type": "execute_result"
    }
   ],
   "source": [
    "shock.add_equal_shock_to_deterioration_table(magn=500, det_table=dt[0,:])"
   ]
  }
 ],
 "metadata": {
  "kernelspec": {
   "display_name": "imprl",
   "language": "python",
   "name": "python3"
  },
  "language_info": {
   "codemirror_mode": {
    "name": "ipython",
    "version": 3
   },
   "file_extension": ".py",
   "mimetype": "text/x-python",
   "name": "python",
   "nbconvert_exporter": "python",
   "pygments_lexer": "ipython3",
   "version": "3.10.0"
  }
 },
 "nbformat": 4,
 "nbformat_minor": 2
}
